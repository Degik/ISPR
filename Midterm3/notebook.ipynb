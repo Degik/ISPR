{
 "cells": [
  {
   "cell_type": "markdown",
   "metadata": {},
   "source": [
    "# **DAVIDE BULOTTA ------ Assignment 2**"
   ]
  },
  {
   "cell_type": "code",
   "execution_count": 2,
   "metadata": {},
   "outputs": [],
   "source": [
    "from torch.utils.data import DataLoader, TensorDataset\n",
    "from torchvision.utils import save_image\n",
    "from matplotlib import pyplot as plt\n",
    "from torchvision import transforms\n",
    "from torch.functional import F\n",
    "from torchmetrics import Dice\n",
    "from tqdm import tqdm\n",
    "from PIL import Image\n",
    "import torch.nn as nn\n",
    "import numpy as np\n",
    "import torch\n",
    "import os"
   ]
  },
  {
   "cell_type": "markdown",
   "metadata": {},
   "source": [
    "# Read Dataset"
   ]
  },
  {
   "cell_type": "markdown",
   "metadata": {},
   "source": [
    "The images was read and collet using Pillow libray\n",
    "\n",
    "For the model learning all images was converted in RGB matrix"
   ]
  },
  {
   "cell_type": "code",
   "execution_count": 3,
   "metadata": {},
   "outputs": [],
   "source": [
    "def geImage(idx:int):\n",
    "    # Read the image and mask\n",
    "    img_name = 'dataset/horse/horse' + str(idx).zfill(3) + '.png'\n",
    "    mask_name = 'dataset/mask/horse' + str(idx).zfill(3) + '.png'\n",
    "    # Open the image and convert it to RGB\n",
    "    # https://pillow.readthedocs.io/en/stable/reference/Image.html#PIL.Image.open\n",
    "    # https://pillow.readthedocs.io/en/stable/reference/Image.html#PIL.Image.Image.convert\n",
    "    img = Image.open(img_name).convert('RGB')\n",
    "    # Open the mask\n",
    "    mask = Image.open(mask_name)\n",
    "    return img, mask"
   ]
  },
  {
   "cell_type": "markdown",
   "metadata": {},
   "source": [
    "All images was resized into 640 x 640 for the learning\n",
    "\n",
    "I've used **torchvision.transforms** for the **resize**, **convert to tensor** and **normalize all images**"
   ]
  },
  {
   "cell_type": "code",
   "execution_count": 5,
   "metadata": {},
   "outputs": [],
   "source": [
    "# Define the image size\n",
    "size = (640, 640)\n",
    "\n",
    "# Define the transformations\n",
    "# I've used the v1 version of transforms\n",
    "# https://pytorch.org/vision/stable/transforms.html\n",
    "# https://pytorch.org/vision/stable/generated/torchvision.transforms.Resize.html#torchvision.transforms.Resize\n",
    "# https://pytorch.org/vision/stable/generated/torchvision.transforms.ToTensor.html#torchvision.transforms.ToTensor\n",
    "# https://pytorch.org/vision/stable/generated/torchvision.transforms.Normalize.html#torchvision.transforms.Normalize\n",
    "# https://pytorch.org/vision/stable/generated/torchvision.transforms.Lambda.html#torchvision.transforms.Lambda\n",
    "\n",
    "preprocessing_image = transforms.Compose([\n",
    "    # Resize the image\n",
    "    transforms.Resize(size),\n",
    "    # Convert the image to a tensor\n",
    "    transforms.ToTensor(),\n",
    "    # Normalize the image\n",
    "    transforms.Normalize(mean=[0.485, 0.456, 0.406], std=[0.229, 0.224, 0.225]),\n",
    "])\n",
    "\n",
    "preprocessing_mask = transforms.Compose([\n",
    "    # Resize the mask\n",
    "    transforms.Resize(size),\n",
    "    # Convert the mask to a tensor\n",
    "    transforms.ToTensor(),\n",
    "    # Convert the mask to a binary mask\n",
    "    transforms.Lambda(lambda x: (x > 0).float()),\n",
    "])"
   ]
  },
  {
   "cell_type": "markdown",
   "metadata": {},
   "source": [
    "I've splitted for the dataset in 75%/25%"
   ]
  },
  {
   "cell_type": "code",
   "execution_count": 6,
   "metadata": {},
   "outputs": [
    {
     "name": "stderr",
     "output_type": "stream",
     "text": [
      "Preparing images dataset: 100%|██████████| 327/327 [00:03<00:00, 108.55it/s]\n"
     ]
    }
   ],
   "source": [
    "# Create the lists to store the images and masks\n",
    "images_list = []\n",
    "masks_list = []\n",
    "\n",
    "# Loop over the images\n",
    "for idx in tqdm(range(1,328), desc='Preparing images dataset'): # 1-327\n",
    "    img, mask = geImage(idx)\n",
    "    if img is not None:\n",
    "        img = preprocessing_image(img)\n",
    "        images_list.append(img)\n",
    "    if mask is not None:\n",
    "        mask = preprocessing_mask(mask)\n",
    "        masks_list.append(mask)"
   ]
  },
  {
   "cell_type": "code",
   "execution_count": 5,
   "metadata": {},
   "outputs": [],
   "source": [
    "# Stack the images and masks\n",
    "train_images = torch.stack(images_list[:246])\n",
    "train_masks = torch.stack(masks_list[:246])\n",
    "test_images = torch.stack(images_list[246:])\n",
    "test_masks = torch.stack(masks_list[246:])"
   ]
  },
  {
   "cell_type": "code",
   "execution_count": 6,
   "metadata": {},
   "outputs": [],
   "source": [
    "# Create the dataset\n",
    "train_dataset = TensorDataset(train_images, train_masks)\n",
    "test_dataset = TensorDataset(test_images, test_masks)\n",
    "# Create the dataloader\n",
    "train_loader = DataLoader(train_dataset, batch_size=10, shuffle=False)\n",
    "test_loader = DataLoader(test_dataset, batch_size=10, shuffle=False)"
   ]
  },
  {
   "cell_type": "markdown",
   "metadata": {},
   "source": [
    "# The Convolutional Network"
   ]
  },
  {
   "cell_type": "markdown",
   "metadata": {},
   "source": [
    "After much indecision, I decided to implement a ResNet architecture by applying a Fully Convolutional Network (FCN) to it.\n",
    "\n",
    "The reasons for this decision were varied:\n",
    "\n",
    "&emsp; - Personal interest in implementing a commonly used network like ResNet.\n",
    "\n",
    "&emsp; - A desire to work with a network that relies solely on convolutions, making it suitable for better understanding this type of architecture.\n",
    "\n",
    "&emsp; - The flexibility to modify the network, allowing changes from ResNet-50 to ResNet-101.\n",
    "\n",
    "&emsp; - An opportunity to gain a deeper understanding of how an FCN can be applied to a ResNet."
   ]
  },
  {
   "cell_type": "markdown",
   "metadata": {},
   "source": [
    "In particular my ispiration was follow the fcn_resnet50-101 implemented by [pytorch](https://pytorch.org/hub/pytorch_vision_fcn_resnet101/)\n",
    "\n",
    "For the implementation of this model I've studied from the slide adding different resources online\n",
    "\n",
    "&emsp; - [Fully Convolutional Network (Semantic Segmentation)](https://towardsdatascience.com/review-fcn-semantic-segmentation-eb8c9b50d2d1)\n",
    "\n",
    "&emsp; - [Converting FC Layers to Conv Layers](https://mein2work.medium.com/converting-fc-layers-to-conv-layers-8a43880a44ed)\n",
    "\n",
    "&emsp; - [Weakly-Labelled Semantic Segmentation of Fish Objects in Underwater Videos Using a Deep Residual Network](https://www.researchgate.net/publication/314071170_Weakly-Labelled_Semantic_Segmentation_of_Fish_Objects_in_Underwater_Videos_Using_a_Deep_Residual_Network) (For fun)"
   ]
  },
  {
   "cell_type": "markdown",
   "metadata": {},
   "source": [
    "## BasicBlock"
   ]
  },
  {
   "cell_type": "code",
   "execution_count": 7,
   "metadata": {},
   "outputs": [],
   "source": [
    "# Define the basic block class for the ResNet\n",
    "class BasicBlock(nn.Module):\n",
    "    # The expansion is used to increase the number of channels\n",
    "    expansion = 4\n",
    "    def __init__(self, in_channels, out_channels, stride=1, downsample=None):\n",
    "        super(BasicBlock, self).__init__()\n",
    "        # The first convolutional layer\n",
    "        self.conv1 = nn.Conv2d(in_channels, out_channels, kernel_size=1, stride=1, bias=False)\n",
    "        # The batch normalization layer\n",
    "        self.bn1 = nn.BatchNorm2d(out_channels)\n",
    "        # The second convolutional layer\n",
    "        self.conv2 = nn.Conv2d(out_channels, out_channels, kernel_size=3, stride=stride, padding=1, bias=False)\n",
    "        # The batch normalization layer\n",
    "        self.bn2 = nn.BatchNorm2d(out_channels)\n",
    "        # The third convolutional layer\n",
    "        self.conv3 = nn.Conv2d(out_channels, out_channels * self.expansion, kernel_size=1, stride=1, bias=False)\n",
    "        # The batch normalization layer\n",
    "        self.bn3 = nn.BatchNorm2d(out_channels * self.expansion)\n",
    "        # The ReLU layer\n",
    "        self.relu = nn.ReLU(inplace=True)\n",
    "        # The downsample layer is used to match the dimensions between the residual and the output\n",
    "        self.downsample = downsample\n",
    "        \n",
    "    def forward(self, x):\n",
    "        # Save the residual\n",
    "        residual = x\n",
    "        # If the downsample is not None, apply it\n",
    "        if self.downsample is not None:\n",
    "            residual = self.downsample(x)\n",
    "        # Apply the first convolutional layer\n",
    "        out = self.conv1(x)\n",
    "        out = self.bn1(out)\n",
    "        out = self.relu(out)\n",
    "        # Apply the second convolutional layer\n",
    "        out = self.conv2(out)\n",
    "        out = self.bn2(out)\n",
    "        out = self.relu(out)\n",
    "        # Apply the third convolutional layer\n",
    "        out = self.conv3(out)\n",
    "        out = self.bn3(out)\n",
    "        # Add the residual to the output\n",
    "        out += residual\n",
    "        out = self.relu(out)\n",
    "        return out"
   ]
  },
  {
   "cell_type": "markdown",
   "metadata": {},
   "source": [
    "## ResNet"
   ]
  },
  {
   "cell_type": "markdown",
   "metadata": {},
   "source": [
    "The ResNet model serves as a powerful backbone for feature extraction in the Fully Convolutional Network (FCN) application.\n",
    "\n",
    "It utilizes **residual** learning through residual blocks, which help in learning complex features by enabling direct gradient flow through skip connections.\n",
    "\n",
    "**Max Pooling** is applied early in the network, right after the initial convolution layer."
   ]
  },
  {
   "cell_type": "code",
   "execution_count": 8,
   "metadata": {},
   "outputs": [],
   "source": [
    "# Define the ResNet model\n",
    "class ResNet(nn.Module):\n",
    "    def __init__(self, block, layers, num_classes=1):\n",
    "        super(ResNet, self).__init__()\n",
    "        # The number of input channels\n",
    "        self.in_channels = 64\n",
    "        # The first convolutional layer of the ResNet\n",
    "        self.conv1 = nn.Conv2d(3, 64, kernel_size=7, stride=2, padding=3, bias=False)\n",
    "        # The batch normalization layer of the ResNet\n",
    "        self.bn = nn.BatchNorm2d(64)\n",
    "        # The ReLU layer of the ResNet\n",
    "        self.relu = nn.ReLU(inplace=True)\n",
    "        # The maxpool layer of the ResNet\n",
    "        self.maxpool = nn.MaxPool2d(kernel_size=3, stride=2, padding=1)\n",
    "\n",
    "        # The layer1 of the ResNet\n",
    "        self.layer1 = self.make_layer(block, 64, layers[0])\n",
    "        # The layer2 of the ResNet\n",
    "        self.layer2 = self.make_layer(block, 128, layers[1], 2)\n",
    "        # The layer3 of the ResNet\n",
    "        self.layer3 = self.make_layer(block, 256, layers[2], 2)\n",
    "        # The layer4 of the ResNet\n",
    "        self.layer4 = self.make_layer(block, 512, layers[3], 2)\n",
    "\n",
    "    # Define the make_layer function to create the layers of the ResNet\n",
    "    def make_layer(self, block, out_channels, blocks, stride=1):\n",
    "        downsample = None\n",
    "\n",
    "        # Check if the input channels is not equal to the output channels\n",
    "        if stride != 1 or self.in_channels != out_channels * block.expansion: # 64 != 64 * 4 \n",
    "            downsample = nn.Sequential(\n",
    "                nn.Conv2d(self.in_channels, out_channels * block.expansion, kernel_size=1, stride=stride, bias=False),\n",
    "                nn.BatchNorm2d(out_channels * block.expansion)\n",
    "            ) # 1x1 conv layer\n",
    "        layers = []\n",
    "        layers.append(block(self.in_channels, out_channels, stride, downsample)) # 1st layer\n",
    "        # Update the input channels\n",
    "        self.in_channels = out_channels * block.expansion\n",
    "        # Create the remaining layers\n",
    "        for i in range(1, blocks):\n",
    "            layers.append(block(self.in_channels, out_channels))\n",
    "        return nn.Sequential(*layers)\n",
    "    \n",
    "    def forward(self, x):\n",
    "        # Apply the first step in the ResNet\n",
    "        x = self.conv1(x)\n",
    "        x = self.bn(x)\n",
    "        x = self.relu(x)\n",
    "        x = self.maxpool(x)\n",
    "        # Apply the layer1\n",
    "        layer1_output = self.layer1(x)\n",
    "        # Apply the layer2 using the output of layer1\n",
    "        layer2_output = self.layer2(layer1_output)\n",
    "        # For FNC ResNet50, we need to save the output of layer3 and layer4\n",
    "        layer3_output = self.layer3(layer2_output)\n",
    "        layer4_output = self.layer4(layer3_output)\n",
    "        # Return the output of layer4 and layer3 for the FNC ResNet50\n",
    "        return layer4_output, layer3_output"
   ]
  },
  {
   "cell_type": "markdown",
   "metadata": {},
   "source": [
    "## FCN ResNet"
   ]
  },
  {
   "cell_type": "markdown",
   "metadata": {},
   "source": [
    "The **FCN Head** is crucial for transforming the high-dimensional feature maps extracted by the backbone into a lower-dimensional space.\n",
    "\n",
    "I've used a standard convolutional layer with a dropout function to reduce the overfitting problem and after another convolution to remap the tensor into the output class.\n"
   ]
  },
  {
   "cell_type": "code",
   "execution_count": 9,
   "metadata": {},
   "outputs": [],
   "source": [
    "# FNC ResNet50 model\n",
    "class FCNHead(nn.Sequential):\n",
    "    def __init__(self, in_channels, channels, number_of_classes=1):\n",
    "        # The layers of the FCN head\n",
    "        layers = [\n",
    "            nn.Conv2d(in_channels, channels, kernel_size=3, padding=1, bias=False),\n",
    "            nn.BatchNorm2d(channels),\n",
    "            nn.ReLU(inplace=True),\n",
    "            nn.Dropout(0.1),\n",
    "            nn.Conv2d(channels, number_of_classes, kernel_size=1)\n",
    "        ]\n",
    "        super(FCNHead, self).__init__(*layers)"
   ]
  },
  {
   "cell_type": "markdown",
   "metadata": {},
   "source": [
    "## FCN (Fully Convolutional Networks)"
   ]
  },
  {
   "cell_type": "markdown",
   "metadata": {},
   "source": [
    "The FCN (Fully Convolutional Network) model is designed to handle image segmentation tasks by converting the feature maps from the ResNet backbone into pixel-wise classification outputs.\n"
   ]
  },
  {
   "cell_type": "code",
   "execution_count": 10,
   "metadata": {},
   "outputs": [],
   "source": [
    "class FCN(nn.Module):\n",
    "    def __init__(self, backbone, classifier, aux_classifier=None):\n",
    "        super(FCN, self).__init__()\n",
    "        self.backbone = backbone\n",
    "        self.classifier = classifier\n",
    "        self.aux_classifier = aux_classifier\n",
    "\n",
    "    def forward(self, x):\n",
    "        # Get the input shape of the image x\n",
    "        input_shape = x.shape[-2:]\n",
    "        features, aux_features = self.backbone(x)\n",
    "        # Get the output\n",
    "        x = self.classifier(features)\n",
    "        # Resize the output to the input shape\n",
    "        x = F.interpolate(x, size=input_shape, mode='bilinear', align_corners=False)\n",
    "\n",
    "        result = {\"out\": x}\n",
    "\n",
    "        if self.aux_classifier is not None:\n",
    "            # Get the auxiliary output\n",
    "            aux = self.aux_classifier(aux_features)\n",
    "            # Resize the output to the input shape\n",
    "            aux = F.interpolate(aux, size=input_shape, mode='bilinear', align_corners=False)\n",
    "            result[\"aux\"] = aux\n",
    "\n",
    "        return result"
   ]
  },
  {
   "cell_type": "code",
   "execution_count": 11,
   "metadata": {},
   "outputs": [],
   "source": [
    "# Create the FNC ResNet101 model\n",
    "def FCNResNet50(num_classes=1, aux=True):\n",
    "    backbone = ResNet(BasicBlock, [3, 4, 6, 3]) # ResNet50\n",
    "    #backbone = ResNet(BasicBlock, [3, 4, 23, 3]) # ResNet101\n",
    "    # Create the classifier and the auxiliary classifier for the FNC ResNet50 model\n",
    "    classifier = FCNHead(2048, 512, num_classes)\n",
    "    aux_classifier = FCNHead(1024, 256, num_classes) if aux else None\n",
    "    model = FCN(backbone, classifier, aux_classifier)\n",
    "    return model"
   ]
  },
  {
   "cell_type": "code",
   "execution_count": 12,
   "metadata": {},
   "outputs": [],
   "source": [
    "# Create the model\n",
    "model = FCNResNet50()"
   ]
  },
  {
   "cell_type": "code",
   "execution_count": 13,
   "metadata": {},
   "outputs": [],
   "source": [
    "# Count the number of parameters\n",
    "def count_parameters(model):\n",
    "    return sum(p.numel() for p in model.parameters() if p.requires_grad)"
   ]
  },
  {
   "cell_type": "markdown",
   "metadata": {},
   "source": [
    "## Number of parameters"
   ]
  },
  {
   "cell_type": "code",
   "execution_count": 14,
   "metadata": {},
   "outputs": [
    {
     "name": "stdout",
     "output_type": "stream",
     "text": [
      "Model parameters: 35306818\n"
     ]
    }
   ],
   "source": [
    "model_parameters = count_parameters(model)\n",
    "print(f\"Model parameters: {model_parameters}\")"
   ]
  },
  {
   "cell_type": "code",
   "execution_count": 15,
   "metadata": {},
   "outputs": [],
   "source": [
    "onnx_file_path = \"model.onnx\"\n",
    "model = model.to('cuda:0')\n",
    "model.eval()\n",
    "input_tensor = torch.randn(1, 3, 224, 224).cuda()\n",
    "# Export the model in Open Neural Network eXchange (ONNX) format\n",
    "# https://pytorch.org/docs/stable/onnx.html\n",
    "torch.onnx.export(\n",
    "    model,                      # Pytorch model\n",
    "    input_tensor,               # Input tensor\n",
    "    onnx_file_path,             # Output file path\n",
    "    export_params=True,         # Export the trained parameters\n",
    "    opset_version=11,           # Version of the ONNX opset to use\n",
    "    do_constant_folding=True,   # Execute constant folding for optimization\n",
    "    input_names=['input'],      # Names of the input\n",
    "    output_names=['out', 'aux'],    # Names of the output\n",
    "    dynamic_axes={'input': {0: 'batch_size'}, 'out': {0: 'batch_size'}, 'aux': {0: 'batch_size'}} # Dynamic axes\n",
    ")"
   ]
  },
  {
   "cell_type": "markdown",
   "metadata": {},
   "source": [
    "# Analyses of the results"
   ]
  },
  {
   "cell_type": "markdown",
   "metadata": {},
   "source": [
    "## Model choice ResNet50 vs ResNet 101"
   ]
  },
  {
   "cell_type": "markdown",
   "metadata": {},
   "source": [
    "After conducting numerous tests, I have decided to use ResNet50 instead of ResNet101 for my model architecture for this reasons:\n",
    "\n",
    "&emsp; - ResNet101 has significantly more parameters than ResNet50, which can lead to a loss of spatial information in the image. For tasks such as image segmentation, where preserving spatial details is crucial, this loss can negatively impact performance.\n",
    "\n",
    "&emsp; - The higher complexity of ResNet101 increases the risk of overfitting, especially in this case were the dataset is not very large. ResNet50, being less complex, provides a better balance between model capacity and generalization.\n",
    "\n",
    "&emsp; - ResNet101 requires more computational resources and time to train compared to ResNet50. During my tests, I founded that the training time for ResNet101 was considerably longer without a proportionate improvement in performance. This makes ResNet50 a more practical choice where computational efficiency is a concern.\n",
    "\n",
    "&emsp; - In terms of performance metrics such as dice coefficient and loss, ResNet50 consistently matched or outperformed ResNet101. This indicates that the additional layers and parameters in ResNet101 do not necessarily translate to better performance for my specific use case.\n"
   ]
  },
  {
   "cell_type": "code",
   "execution_count": 16,
   "metadata": {},
   "outputs": [
    {
     "name": "stdout",
     "output_type": "stream",
     "text": [
      "FCN(\n",
      "  (backbone): ResNet(\n",
      "    (conv1): Conv2d(3, 64, kernel_size=(7, 7), stride=(2, 2), padding=(3, 3), bias=False)\n",
      "    (bn): BatchNorm2d(64, eps=1e-05, momentum=0.1, affine=True, track_running_stats=True)\n",
      "    (relu): ReLU(inplace=True)\n",
      "    (maxpool): MaxPool2d(kernel_size=3, stride=2, padding=1, dilation=1, ceil_mode=False)\n",
      "    (layer1): Sequential(\n",
      "      (0): BasicBlock(\n",
      "        (conv1): Conv2d(64, 64, kernel_size=(1, 1), stride=(1, 1), bias=False)\n",
      "        (bn1): BatchNorm2d(64, eps=1e-05, momentum=0.1, affine=True, track_running_stats=True)\n",
      "        (conv2): Conv2d(64, 64, kernel_size=(3, 3), stride=(1, 1), padding=(1, 1), bias=False)\n",
      "        (bn2): BatchNorm2d(64, eps=1e-05, momentum=0.1, affine=True, track_running_stats=True)\n",
      "        (conv3): Conv2d(64, 256, kernel_size=(1, 1), stride=(1, 1), bias=False)\n",
      "        (bn3): BatchNorm2d(256, eps=1e-05, momentum=0.1, affine=True, track_running_stats=True)\n",
      "        (relu): ReLU(inplace=True)\n",
      "        (downsample): Sequential(\n",
      "          (0): Conv2d(64, 256, kernel_size=(1, 1), stride=(1, 1), bias=False)\n",
      "          (1): BatchNorm2d(256, eps=1e-05, momentum=0.1, affine=True, track_running_stats=True)\n",
      "        )\n",
      "      )\n",
      "      (1): BasicBlock(\n",
      "        (conv1): Conv2d(256, 64, kernel_size=(1, 1), stride=(1, 1), bias=False)\n",
      "        (bn1): BatchNorm2d(64, eps=1e-05, momentum=0.1, affine=True, track_running_stats=True)\n",
      "        (conv2): Conv2d(64, 64, kernel_size=(3, 3), stride=(1, 1), padding=(1, 1), bias=False)\n",
      "        (bn2): BatchNorm2d(64, eps=1e-05, momentum=0.1, affine=True, track_running_stats=True)\n",
      "        (conv3): Conv2d(64, 256, kernel_size=(1, 1), stride=(1, 1), bias=False)\n",
      "        (bn3): BatchNorm2d(256, eps=1e-05, momentum=0.1, affine=True, track_running_stats=True)\n",
      "        (relu): ReLU(inplace=True)\n",
      "      )\n",
      "      (2): BasicBlock(\n",
      "        (conv1): Conv2d(256, 64, kernel_size=(1, 1), stride=(1, 1), bias=False)\n",
      "        (bn1): BatchNorm2d(64, eps=1e-05, momentum=0.1, affine=True, track_running_stats=True)\n",
      "        (conv2): Conv2d(64, 64, kernel_size=(3, 3), stride=(1, 1), padding=(1, 1), bias=False)\n",
      "        (bn2): BatchNorm2d(64, eps=1e-05, momentum=0.1, affine=True, track_running_stats=True)\n",
      "        (conv3): Conv2d(64, 256, kernel_size=(1, 1), stride=(1, 1), bias=False)\n",
      "        (bn3): BatchNorm2d(256, eps=1e-05, momentum=0.1, affine=True, track_running_stats=True)\n",
      "        (relu): ReLU(inplace=True)\n",
      "      )\n",
      "    )\n",
      "    (layer2): Sequential(\n",
      "      (0): BasicBlock(\n",
      "        (conv1): Conv2d(256, 128, kernel_size=(1, 1), stride=(1, 1), bias=False)\n",
      "        (bn1): BatchNorm2d(128, eps=1e-05, momentum=0.1, affine=True, track_running_stats=True)\n",
      "        (conv2): Conv2d(128, 128, kernel_size=(3, 3), stride=(2, 2), padding=(1, 1), bias=False)\n",
      "        (bn2): BatchNorm2d(128, eps=1e-05, momentum=0.1, affine=True, track_running_stats=True)\n",
      "        (conv3): Conv2d(128, 512, kernel_size=(1, 1), stride=(1, 1), bias=False)\n",
      "        (bn3): BatchNorm2d(512, eps=1e-05, momentum=0.1, affine=True, track_running_stats=True)\n",
      "        (relu): ReLU(inplace=True)\n",
      "        (downsample): Sequential(\n",
      "          (0): Conv2d(256, 512, kernel_size=(1, 1), stride=(2, 2), bias=False)\n",
      "          (1): BatchNorm2d(512, eps=1e-05, momentum=0.1, affine=True, track_running_stats=True)\n",
      "        )\n",
      "      )\n",
      "      (1): BasicBlock(\n",
      "        (conv1): Conv2d(512, 128, kernel_size=(1, 1), stride=(1, 1), bias=False)\n",
      "        (bn1): BatchNorm2d(128, eps=1e-05, momentum=0.1, affine=True, track_running_stats=True)\n",
      "        (conv2): Conv2d(128, 128, kernel_size=(3, 3), stride=(1, 1), padding=(1, 1), bias=False)\n",
      "        (bn2): BatchNorm2d(128, eps=1e-05, momentum=0.1, affine=True, track_running_stats=True)\n",
      "        (conv3): Conv2d(128, 512, kernel_size=(1, 1), stride=(1, 1), bias=False)\n",
      "        (bn3): BatchNorm2d(512, eps=1e-05, momentum=0.1, affine=True, track_running_stats=True)\n",
      "        (relu): ReLU(inplace=True)\n",
      "      )\n",
      "      (2): BasicBlock(\n",
      "        (conv1): Conv2d(512, 128, kernel_size=(1, 1), stride=(1, 1), bias=False)\n",
      "        (bn1): BatchNorm2d(128, eps=1e-05, momentum=0.1, affine=True, track_running_stats=True)\n",
      "        (conv2): Conv2d(128, 128, kernel_size=(3, 3), stride=(1, 1), padding=(1, 1), bias=False)\n",
      "        (bn2): BatchNorm2d(128, eps=1e-05, momentum=0.1, affine=True, track_running_stats=True)\n",
      "        (conv3): Conv2d(128, 512, kernel_size=(1, 1), stride=(1, 1), bias=False)\n",
      "        (bn3): BatchNorm2d(512, eps=1e-05, momentum=0.1, affine=True, track_running_stats=True)\n",
      "        (relu): ReLU(inplace=True)\n",
      "      )\n",
      "      (3): BasicBlock(\n",
      "        (conv1): Conv2d(512, 128, kernel_size=(1, 1), stride=(1, 1), bias=False)\n",
      "        (bn1): BatchNorm2d(128, eps=1e-05, momentum=0.1, affine=True, track_running_stats=True)\n",
      "        (conv2): Conv2d(128, 128, kernel_size=(3, 3), stride=(1, 1), padding=(1, 1), bias=False)\n",
      "        (bn2): BatchNorm2d(128, eps=1e-05, momentum=0.1, affine=True, track_running_stats=True)\n",
      "        (conv3): Conv2d(128, 512, kernel_size=(1, 1), stride=(1, 1), bias=False)\n",
      "        (bn3): BatchNorm2d(512, eps=1e-05, momentum=0.1, affine=True, track_running_stats=True)\n",
      "        (relu): ReLU(inplace=True)\n",
      "      )\n",
      "    )\n",
      "    (layer3): Sequential(\n",
      "      (0): BasicBlock(\n",
      "        (conv1): Conv2d(512, 256, kernel_size=(1, 1), stride=(1, 1), bias=False)\n",
      "        (bn1): BatchNorm2d(256, eps=1e-05, momentum=0.1, affine=True, track_running_stats=True)\n",
      "        (conv2): Conv2d(256, 256, kernel_size=(3, 3), stride=(2, 2), padding=(1, 1), bias=False)\n",
      "        (bn2): BatchNorm2d(256, eps=1e-05, momentum=0.1, affine=True, track_running_stats=True)\n",
      "        (conv3): Conv2d(256, 1024, kernel_size=(1, 1), stride=(1, 1), bias=False)\n",
      "        (bn3): BatchNorm2d(1024, eps=1e-05, momentum=0.1, affine=True, track_running_stats=True)\n",
      "        (relu): ReLU(inplace=True)\n",
      "        (downsample): Sequential(\n",
      "          (0): Conv2d(512, 1024, kernel_size=(1, 1), stride=(2, 2), bias=False)\n",
      "          (1): BatchNorm2d(1024, eps=1e-05, momentum=0.1, affine=True, track_running_stats=True)\n",
      "        )\n",
      "      )\n",
      "      (1): BasicBlock(\n",
      "        (conv1): Conv2d(1024, 256, kernel_size=(1, 1), stride=(1, 1), bias=False)\n",
      "        (bn1): BatchNorm2d(256, eps=1e-05, momentum=0.1, affine=True, track_running_stats=True)\n",
      "        (conv2): Conv2d(256, 256, kernel_size=(3, 3), stride=(1, 1), padding=(1, 1), bias=False)\n",
      "        (bn2): BatchNorm2d(256, eps=1e-05, momentum=0.1, affine=True, track_running_stats=True)\n",
      "        (conv3): Conv2d(256, 1024, kernel_size=(1, 1), stride=(1, 1), bias=False)\n",
      "        (bn3): BatchNorm2d(1024, eps=1e-05, momentum=0.1, affine=True, track_running_stats=True)\n",
      "        (relu): ReLU(inplace=True)\n",
      "      )\n",
      "      (2): BasicBlock(\n",
      "        (conv1): Conv2d(1024, 256, kernel_size=(1, 1), stride=(1, 1), bias=False)\n",
      "        (bn1): BatchNorm2d(256, eps=1e-05, momentum=0.1, affine=True, track_running_stats=True)\n",
      "        (conv2): Conv2d(256, 256, kernel_size=(3, 3), stride=(1, 1), padding=(1, 1), bias=False)\n",
      "        (bn2): BatchNorm2d(256, eps=1e-05, momentum=0.1, affine=True, track_running_stats=True)\n",
      "        (conv3): Conv2d(256, 1024, kernel_size=(1, 1), stride=(1, 1), bias=False)\n",
      "        (bn3): BatchNorm2d(1024, eps=1e-05, momentum=0.1, affine=True, track_running_stats=True)\n",
      "        (relu): ReLU(inplace=True)\n",
      "      )\n",
      "      (3): BasicBlock(\n",
      "        (conv1): Conv2d(1024, 256, kernel_size=(1, 1), stride=(1, 1), bias=False)\n",
      "        (bn1): BatchNorm2d(256, eps=1e-05, momentum=0.1, affine=True, track_running_stats=True)\n",
      "        (conv2): Conv2d(256, 256, kernel_size=(3, 3), stride=(1, 1), padding=(1, 1), bias=False)\n",
      "        (bn2): BatchNorm2d(256, eps=1e-05, momentum=0.1, affine=True, track_running_stats=True)\n",
      "        (conv3): Conv2d(256, 1024, kernel_size=(1, 1), stride=(1, 1), bias=False)\n",
      "        (bn3): BatchNorm2d(1024, eps=1e-05, momentum=0.1, affine=True, track_running_stats=True)\n",
      "        (relu): ReLU(inplace=True)\n",
      "      )\n",
      "      (4): BasicBlock(\n",
      "        (conv1): Conv2d(1024, 256, kernel_size=(1, 1), stride=(1, 1), bias=False)\n",
      "        (bn1): BatchNorm2d(256, eps=1e-05, momentum=0.1, affine=True, track_running_stats=True)\n",
      "        (conv2): Conv2d(256, 256, kernel_size=(3, 3), stride=(1, 1), padding=(1, 1), bias=False)\n",
      "        (bn2): BatchNorm2d(256, eps=1e-05, momentum=0.1, affine=True, track_running_stats=True)\n",
      "        (conv3): Conv2d(256, 1024, kernel_size=(1, 1), stride=(1, 1), bias=False)\n",
      "        (bn3): BatchNorm2d(1024, eps=1e-05, momentum=0.1, affine=True, track_running_stats=True)\n",
      "        (relu): ReLU(inplace=True)\n",
      "      )\n",
      "      (5): BasicBlock(\n",
      "        (conv1): Conv2d(1024, 256, kernel_size=(1, 1), stride=(1, 1), bias=False)\n",
      "        (bn1): BatchNorm2d(256, eps=1e-05, momentum=0.1, affine=True, track_running_stats=True)\n",
      "        (conv2): Conv2d(256, 256, kernel_size=(3, 3), stride=(1, 1), padding=(1, 1), bias=False)\n",
      "        (bn2): BatchNorm2d(256, eps=1e-05, momentum=0.1, affine=True, track_running_stats=True)\n",
      "        (conv3): Conv2d(256, 1024, kernel_size=(1, 1), stride=(1, 1), bias=False)\n",
      "        (bn3): BatchNorm2d(1024, eps=1e-05, momentum=0.1, affine=True, track_running_stats=True)\n",
      "        (relu): ReLU(inplace=True)\n",
      "      )\n",
      "    )\n",
      "    (layer4): Sequential(\n",
      "      (0): BasicBlock(\n",
      "        (conv1): Conv2d(1024, 512, kernel_size=(1, 1), stride=(1, 1), bias=False)\n",
      "        (bn1): BatchNorm2d(512, eps=1e-05, momentum=0.1, affine=True, track_running_stats=True)\n",
      "        (conv2): Conv2d(512, 512, kernel_size=(3, 3), stride=(2, 2), padding=(1, 1), bias=False)\n",
      "        (bn2): BatchNorm2d(512, eps=1e-05, momentum=0.1, affine=True, track_running_stats=True)\n",
      "        (conv3): Conv2d(512, 2048, kernel_size=(1, 1), stride=(1, 1), bias=False)\n",
      "        (bn3): BatchNorm2d(2048, eps=1e-05, momentum=0.1, affine=True, track_running_stats=True)\n",
      "        (relu): ReLU(inplace=True)\n",
      "        (downsample): Sequential(\n",
      "          (0): Conv2d(1024, 2048, kernel_size=(1, 1), stride=(2, 2), bias=False)\n",
      "          (1): BatchNorm2d(2048, eps=1e-05, momentum=0.1, affine=True, track_running_stats=True)\n",
      "        )\n",
      "      )\n",
      "      (1): BasicBlock(\n",
      "        (conv1): Conv2d(2048, 512, kernel_size=(1, 1), stride=(1, 1), bias=False)\n",
      "        (bn1): BatchNorm2d(512, eps=1e-05, momentum=0.1, affine=True, track_running_stats=True)\n",
      "        (conv2): Conv2d(512, 512, kernel_size=(3, 3), stride=(1, 1), padding=(1, 1), bias=False)\n",
      "        (bn2): BatchNorm2d(512, eps=1e-05, momentum=0.1, affine=True, track_running_stats=True)\n",
      "        (conv3): Conv2d(512, 2048, kernel_size=(1, 1), stride=(1, 1), bias=False)\n",
      "        (bn3): BatchNorm2d(2048, eps=1e-05, momentum=0.1, affine=True, track_running_stats=True)\n",
      "        (relu): ReLU(inplace=True)\n",
      "      )\n",
      "      (2): BasicBlock(\n",
      "        (conv1): Conv2d(2048, 512, kernel_size=(1, 1), stride=(1, 1), bias=False)\n",
      "        (bn1): BatchNorm2d(512, eps=1e-05, momentum=0.1, affine=True, track_running_stats=True)\n",
      "        (conv2): Conv2d(512, 512, kernel_size=(3, 3), stride=(1, 1), padding=(1, 1), bias=False)\n",
      "        (bn2): BatchNorm2d(512, eps=1e-05, momentum=0.1, affine=True, track_running_stats=True)\n",
      "        (conv3): Conv2d(512, 2048, kernel_size=(1, 1), stride=(1, 1), bias=False)\n",
      "        (bn3): BatchNorm2d(2048, eps=1e-05, momentum=0.1, affine=True, track_running_stats=True)\n",
      "        (relu): ReLU(inplace=True)\n",
      "      )\n",
      "    )\n",
      "  )\n",
      "  (classifier): FCNHead(\n",
      "    (0): Conv2d(2048, 512, kernel_size=(3, 3), stride=(1, 1), padding=(1, 1), bias=False)\n",
      "    (1): BatchNorm2d(512, eps=1e-05, momentum=0.1, affine=True, track_running_stats=True)\n",
      "    (2): ReLU(inplace=True)\n",
      "    (3): Dropout(p=0.1, inplace=False)\n",
      "    (4): Conv2d(512, 1, kernel_size=(1, 1), stride=(1, 1))\n",
      "  )\n",
      "  (aux_classifier): FCNHead(\n",
      "    (0): Conv2d(1024, 256, kernel_size=(3, 3), stride=(1, 1), padding=(1, 1), bias=False)\n",
      "    (1): BatchNorm2d(256, eps=1e-05, momentum=0.1, affine=True, track_running_stats=True)\n",
      "    (2): ReLU(inplace=True)\n",
      "    (3): Dropout(p=0.1, inplace=False)\n",
      "    (4): Conv2d(256, 1, kernel_size=(1, 1), stride=(1, 1))\n",
      "  )\n",
      ")\n"
     ]
    }
   ],
   "source": [
    "print(model)"
   ]
  },
  {
   "cell_type": "code",
   "execution_count": 19,
   "metadata": {},
   "outputs": [
    {
     "name": "stderr",
     "output_type": "stream",
     "text": [
      "  1%|          | 1/150 [00:11<29:25, 11.85s/it]"
     ]
    },
    {
     "name": "stdout",
     "output_type": "stream",
     "text": [
      "Epoch: 1, Loss Train: 0.7985, Dice Train: 0.7331, Loss Test: 4.9508, Dice Test: 0.7321\n"
     ]
    },
    {
     "name": "stderr",
     "output_type": "stream",
     "text": [
      "  1%|▏         | 2/150 [00:23<28:57, 11.74s/it]"
     ]
    },
    {
     "name": "stdout",
     "output_type": "stream",
     "text": [
      "Epoch: 2, Loss Train: 0.6162, Dice Train: 0.7844, Loss Test: 0.7026, Dice Test: 0.7722\n"
     ]
    },
    {
     "name": "stderr",
     "output_type": "stream",
     "text": [
      "  2%|▏         | 3/150 [00:35<28:41, 11.71s/it]"
     ]
    },
    {
     "name": "stdout",
     "output_type": "stream",
     "text": [
      "Epoch: 3, Loss Train: 0.6038, Dice Train: 0.7989, Loss Test: 0.6271, Dice Test: 0.7651\n"
     ]
    },
    {
     "name": "stderr",
     "output_type": "stream",
     "text": [
      "  3%|▎         | 4/150 [00:46<28:27, 11.70s/it]"
     ]
    },
    {
     "name": "stdout",
     "output_type": "stream",
     "text": [
      "Epoch: 4, Loss Train: 0.5520, Dice Train: 0.8201, Loss Test: 0.5969, Dice Test: 0.7986\n"
     ]
    },
    {
     "name": "stderr",
     "output_type": "stream",
     "text": [
      "  3%|▎         | 5/150 [00:58<28:15, 11.69s/it]"
     ]
    },
    {
     "name": "stdout",
     "output_type": "stream",
     "text": [
      "Epoch: 5, Loss Train: 0.5198, Dice Train: 0.8376, Loss Test: 0.6087, Dice Test: 0.7897\n"
     ]
    },
    {
     "name": "stderr",
     "output_type": "stream",
     "text": [
      "  4%|▍         | 6/150 [01:10<28:06, 11.71s/it]"
     ]
    },
    {
     "name": "stdout",
     "output_type": "stream",
     "text": [
      "Epoch: 6, Loss Train: 0.5023, Dice Train: 0.8403, Loss Test: 0.5714, Dice Test: 0.7828\n"
     ]
    },
    {
     "name": "stderr",
     "output_type": "stream",
     "text": [
      "  5%|▍         | 7/150 [01:22<27:57, 11.73s/it]"
     ]
    },
    {
     "name": "stdout",
     "output_type": "stream",
     "text": [
      "Epoch: 7, Loss Train: 0.4791, Dice Train: 0.8509, Loss Test: 0.5668, Dice Test: 0.8171\n"
     ]
    },
    {
     "name": "stderr",
     "output_type": "stream",
     "text": [
      "  5%|▌         | 8/150 [01:33<27:42, 11.70s/it]"
     ]
    },
    {
     "name": "stdout",
     "output_type": "stream",
     "text": [
      "Epoch: 8, Loss Train: 0.4544, Dice Train: 0.8620, Loss Test: 0.5399, Dice Test: 0.8339\n"
     ]
    },
    {
     "name": "stderr",
     "output_type": "stream",
     "text": [
      "  6%|▌         | 9/150 [01:45<27:30, 11.71s/it]"
     ]
    },
    {
     "name": "stdout",
     "output_type": "stream",
     "text": [
      "Epoch: 9, Loss Train: 0.4363, Dice Train: 0.8699, Loss Test: 0.4679, Dice Test: 0.8603\n"
     ]
    },
    {
     "name": "stderr",
     "output_type": "stream",
     "text": [
      "  7%|▋         | 10/150 [01:57<27:14, 11.68s/it]"
     ]
    },
    {
     "name": "stdout",
     "output_type": "stream",
     "text": [
      "Epoch: 10, Loss Train: 0.4163, Dice Train: 0.8766, Loss Test: 0.4744, Dice Test: 0.8677\n"
     ]
    },
    {
     "name": "stderr",
     "output_type": "stream",
     "text": [
      "  7%|▋         | 11/150 [02:08<26:59, 11.65s/it]"
     ]
    },
    {
     "name": "stdout",
     "output_type": "stream",
     "text": [
      "Epoch: 11, Loss Train: 0.3871, Dice Train: 0.8870, Loss Test: 1.1897, Dice Test: 0.8447\n"
     ]
    },
    {
     "name": "stderr",
     "output_type": "stream",
     "text": [
      "  8%|▊         | 12/150 [02:20<26:44, 11.63s/it]"
     ]
    },
    {
     "name": "stdout",
     "output_type": "stream",
     "text": [
      "Epoch: 12, Loss Train: 0.3699, Dice Train: 0.8963, Loss Test: 0.4032, Dice Test: 0.8834\n"
     ]
    },
    {
     "name": "stderr",
     "output_type": "stream",
     "text": [
      "  9%|▊         | 13/150 [02:31<26:36, 11.66s/it]"
     ]
    },
    {
     "name": "stdout",
     "output_type": "stream",
     "text": [
      "Epoch: 13, Loss Train: 0.3384, Dice Train: 0.9058, Loss Test: 0.3790, Dice Test: 0.8956\n"
     ]
    },
    {
     "name": "stderr",
     "output_type": "stream",
     "text": [
      "  9%|▉         | 14/150 [02:43<26:24, 11.65s/it]"
     ]
    },
    {
     "name": "stdout",
     "output_type": "stream",
     "text": [
      "Epoch: 14, Loss Train: 0.3270, Dice Train: 0.9098, Loss Test: 0.5466, Dice Test: 0.8383\n"
     ]
    },
    {
     "name": "stderr",
     "output_type": "stream",
     "text": [
      " 10%|█         | 15/150 [02:55<26:11, 11.64s/it]"
     ]
    },
    {
     "name": "stdout",
     "output_type": "stream",
     "text": [
      "Epoch: 15, Loss Train: 0.3173, Dice Train: 0.9128, Loss Test: 0.3693, Dice Test: 0.8988\n"
     ]
    },
    {
     "name": "stderr",
     "output_type": "stream",
     "text": [
      " 11%|█         | 16/150 [03:06<25:57, 11.62s/it]"
     ]
    },
    {
     "name": "stdout",
     "output_type": "stream",
     "text": [
      "Epoch: 16, Loss Train: 0.2961, Dice Train: 0.9201, Loss Test: 0.4101, Dice Test: 0.8842\n"
     ]
    },
    {
     "name": "stderr",
     "output_type": "stream",
     "text": [
      " 11%|█▏        | 17/150 [03:18<25:48, 11.64s/it]"
     ]
    },
    {
     "name": "stdout",
     "output_type": "stream",
     "text": [
      "Epoch: 17, Loss Train: 0.2821, Dice Train: 0.9241, Loss Test: 0.3398, Dice Test: 0.9097\n"
     ]
    },
    {
     "name": "stderr",
     "output_type": "stream",
     "text": [
      " 12%|█▏        | 18/150 [03:30<25:37, 11.64s/it]"
     ]
    },
    {
     "name": "stdout",
     "output_type": "stream",
     "text": [
      "Epoch: 18, Loss Train: 0.2629, Dice Train: 0.9304, Loss Test: 0.3234, Dice Test: 0.9163\n"
     ]
    },
    {
     "name": "stderr",
     "output_type": "stream",
     "text": [
      " 13%|█▎        | 19/150 [03:41<25:25, 11.65s/it]"
     ]
    },
    {
     "name": "stdout",
     "output_type": "stream",
     "text": [
      "Epoch: 19, Loss Train: 0.2440, Dice Train: 0.9364, Loss Test: 0.3656, Dice Test: 0.9016\n"
     ]
    },
    {
     "name": "stderr",
     "output_type": "stream",
     "text": [
      " 13%|█▎        | 20/150 [03:53<25:14, 11.65s/it]"
     ]
    },
    {
     "name": "stdout",
     "output_type": "stream",
     "text": [
      "Epoch: 20, Loss Train: 0.2386, Dice Train: 0.9376, Loss Test: 0.3629, Dice Test: 0.9053\n"
     ]
    },
    {
     "name": "stderr",
     "output_type": "stream",
     "text": [
      " 14%|█▍        | 21/150 [04:04<24:50, 11.56s/it]"
     ]
    },
    {
     "name": "stdout",
     "output_type": "stream",
     "text": [
      "Epoch: 21, Loss Train: 0.2354, Dice Train: 0.9377, Loss Test: 0.3672, Dice Test: 0.8987\n"
     ]
    },
    {
     "name": "stderr",
     "output_type": "stream",
     "text": [
      " 15%|█▍        | 22/150 [04:16<24:38, 11.55s/it]"
     ]
    },
    {
     "name": "stdout",
     "output_type": "stream",
     "text": [
      "Epoch: 22, Loss Train: 0.2256, Dice Train: 0.9412, Loss Test: 0.3332, Dice Test: 0.9089\n"
     ]
    },
    {
     "name": "stderr",
     "output_type": "stream",
     "text": [
      " 15%|█▌        | 23/150 [04:27<24:33, 11.60s/it]"
     ]
    },
    {
     "name": "stdout",
     "output_type": "stream",
     "text": [
      "Epoch: 23, Loss Train: 0.2251, Dice Train: 0.9416, Loss Test: 0.3090, Dice Test: 0.9190\n"
     ]
    },
    {
     "name": "stderr",
     "output_type": "stream",
     "text": [
      " 16%|█▌        | 24/150 [04:39<24:21, 11.60s/it]"
     ]
    },
    {
     "name": "stdout",
     "output_type": "stream",
     "text": [
      "Epoch: 24, Loss Train: 0.2103, Dice Train: 0.9451, Loss Test: 0.2926, Dice Test: 0.9234\n"
     ]
    },
    {
     "name": "stderr",
     "output_type": "stream",
     "text": [
      " 17%|█▋        | 25/150 [04:51<24:03, 11.55s/it]"
     ]
    },
    {
     "name": "stdout",
     "output_type": "stream",
     "text": [
      "Epoch: 25, Loss Train: 0.1990, Dice Train: 0.9484, Loss Test: 0.3249, Dice Test: 0.9168\n"
     ]
    },
    {
     "name": "stderr",
     "output_type": "stream",
     "text": [
      " 17%|█▋        | 26/150 [05:02<23:48, 11.52s/it]"
     ]
    },
    {
     "name": "stdout",
     "output_type": "stream",
     "text": [
      "Epoch: 26, Loss Train: 0.2017, Dice Train: 0.9482, Loss Test: 0.2915, Dice Test: 0.9213\n"
     ]
    },
    {
     "name": "stderr",
     "output_type": "stream",
     "text": [
      " 18%|█▊        | 27/150 [05:14<23:40, 11.55s/it]"
     ]
    },
    {
     "name": "stdout",
     "output_type": "stream",
     "text": [
      "Epoch: 27, Loss Train: 0.2023, Dice Train: 0.9485, Loss Test: 0.3112, Dice Test: 0.9169\n"
     ]
    },
    {
     "name": "stderr",
     "output_type": "stream",
     "text": [
      " 19%|█▊        | 28/150 [05:25<23:35, 11.60s/it]"
     ]
    },
    {
     "name": "stdout",
     "output_type": "stream",
     "text": [
      "Epoch: 28, Loss Train: 0.1942, Dice Train: 0.9503, Loss Test: 0.3000, Dice Test: 0.9232\n"
     ]
    },
    {
     "name": "stderr",
     "output_type": "stream",
     "text": [
      " 19%|█▉        | 29/150 [05:37<23:20, 11.58s/it]"
     ]
    },
    {
     "name": "stdout",
     "output_type": "stream",
     "text": [
      "Epoch: 29, Loss Train: 0.1830, Dice Train: 0.9531, Loss Test: 0.3335, Dice Test: 0.9129\n"
     ]
    },
    {
     "name": "stderr",
     "output_type": "stream",
     "text": [
      " 20%|██        | 30/150 [05:48<23:04, 11.54s/it]"
     ]
    },
    {
     "name": "stdout",
     "output_type": "stream",
     "text": [
      "Epoch: 30, Loss Train: 0.1774, Dice Train: 0.9544, Loss Test: 0.3505, Dice Test: 0.9167\n"
     ]
    },
    {
     "name": "stderr",
     "output_type": "stream",
     "text": [
      " 21%|██        | 31/150 [06:00<22:53, 11.54s/it]"
     ]
    },
    {
     "name": "stdout",
     "output_type": "stream",
     "text": [
      "Epoch: 31, Loss Train: 0.1750, Dice Train: 0.9552, Loss Test: 0.3740, Dice Test: 0.9013\n"
     ]
    },
    {
     "name": "stderr",
     "output_type": "stream",
     "text": [
      " 21%|██▏       | 32/150 [06:11<22:39, 11.52s/it]"
     ]
    },
    {
     "name": "stdout",
     "output_type": "stream",
     "text": [
      "Epoch: 32, Loss Train: 0.1731, Dice Train: 0.9545, Loss Test: 0.2799, Dice Test: 0.9297\n"
     ]
    },
    {
     "name": "stderr",
     "output_type": "stream",
     "text": [
      " 22%|██▏       | 33/150 [06:23<22:32, 11.56s/it]"
     ]
    },
    {
     "name": "stdout",
     "output_type": "stream",
     "text": [
      "Epoch: 33, Loss Train: 0.1722, Dice Train: 0.9553, Loss Test: 0.3031, Dice Test: 0.9253\n"
     ]
    },
    {
     "name": "stderr",
     "output_type": "stream",
     "text": [
      " 23%|██▎       | 34/150 [06:35<22:21, 11.56s/it]"
     ]
    },
    {
     "name": "stdout",
     "output_type": "stream",
     "text": [
      "Epoch: 34, Loss Train: 0.1546, Dice Train: 0.9600, Loss Test: 0.3069, Dice Test: 0.9262\n"
     ]
    },
    {
     "name": "stderr",
     "output_type": "stream",
     "text": [
      " 23%|██▎       | 35/150 [06:46<22:06, 11.53s/it]"
     ]
    },
    {
     "name": "stdout",
     "output_type": "stream",
     "text": [
      "Epoch: 35, Loss Train: 0.1437, Dice Train: 0.9634, Loss Test: 0.2946, Dice Test: 0.9310\n"
     ]
    },
    {
     "name": "stderr",
     "output_type": "stream",
     "text": [
      " 24%|██▍       | 36/150 [06:58<21:54, 11.53s/it]"
     ]
    },
    {
     "name": "stdout",
     "output_type": "stream",
     "text": [
      "Epoch: 36, Loss Train: 0.1312, Dice Train: 0.9660, Loss Test: 0.3504, Dice Test: 0.9227\n"
     ]
    },
    {
     "name": "stderr",
     "output_type": "stream",
     "text": [
      " 25%|██▍       | 37/150 [07:09<21:46, 11.56s/it]"
     ]
    },
    {
     "name": "stdout",
     "output_type": "stream",
     "text": [
      "Epoch: 37, Loss Train: 0.1237, Dice Train: 0.9676, Loss Test: 0.3731, Dice Test: 0.9200\n"
     ]
    },
    {
     "name": "stderr",
     "output_type": "stream",
     "text": [
      " 25%|██▌       | 38/150 [07:21<21:36, 11.57s/it]"
     ]
    },
    {
     "name": "stdout",
     "output_type": "stream",
     "text": [
      "Epoch: 38, Loss Train: 0.1175, Dice Train: 0.9688, Loss Test: 0.4376, Dice Test: 0.9173\n"
     ]
    },
    {
     "name": "stderr",
     "output_type": "stream",
     "text": [
      " 26%|██▌       | 39/150 [07:33<21:32, 11.65s/it]"
     ]
    },
    {
     "name": "stdout",
     "output_type": "stream",
     "text": [
      "Epoch: 39, Loss Train: 0.1209, Dice Train: 0.9676, Loss Test: 0.2900, Dice Test: 0.9330\n"
     ]
    },
    {
     "name": "stderr",
     "output_type": "stream",
     "text": [
      " 27%|██▋       | 40/150 [07:44<21:24, 11.68s/it]"
     ]
    },
    {
     "name": "stdout",
     "output_type": "stream",
     "text": [
      "Epoch: 40, Loss Train: 0.1139, Dice Train: 0.9689, Loss Test: 0.3172, Dice Test: 0.9302\n"
     ]
    },
    {
     "name": "stderr",
     "output_type": "stream",
     "text": [
      " 27%|██▋       | 41/150 [07:56<21:06, 11.62s/it]"
     ]
    },
    {
     "name": "stdout",
     "output_type": "stream",
     "text": [
      "Epoch: 41, Loss Train: 0.1062, Dice Train: 0.9710, Loss Test: 0.3426, Dice Test: 0.9271\n"
     ]
    },
    {
     "name": "stderr",
     "output_type": "stream",
     "text": [
      " 28%|██▊       | 42/150 [08:07<20:53, 11.61s/it]"
     ]
    },
    {
     "name": "stdout",
     "output_type": "stream",
     "text": [
      "Epoch: 42, Loss Train: 0.1053, Dice Train: 0.9711, Loss Test: 0.3327, Dice Test: 0.9288\n"
     ]
    },
    {
     "name": "stderr",
     "output_type": "stream",
     "text": [
      " 29%|██▊       | 43/150 [08:19<20:46, 11.65s/it]"
     ]
    },
    {
     "name": "stdout",
     "output_type": "stream",
     "text": [
      "Epoch: 43, Loss Train: 0.1069, Dice Train: 0.9712, Loss Test: 0.3796, Dice Test: 0.9218\n"
     ]
    },
    {
     "name": "stderr",
     "output_type": "stream",
     "text": [
      " 29%|██▉       | 44/150 [08:31<20:30, 11.61s/it]"
     ]
    },
    {
     "name": "stdout",
     "output_type": "stream",
     "text": [
      "Epoch: 44, Loss Train: 0.1057, Dice Train: 0.9714, Loss Test: 0.3434, Dice Test: 0.9268\n"
     ]
    },
    {
     "name": "stderr",
     "output_type": "stream",
     "text": [
      " 30%|███       | 45/150 [08:42<20:17, 11.60s/it]"
     ]
    },
    {
     "name": "stdout",
     "output_type": "stream",
     "text": [
      "Epoch: 45, Loss Train: 0.1031, Dice Train: 0.9713, Loss Test: 0.4057, Dice Test: 0.9221\n"
     ]
    },
    {
     "name": "stderr",
     "output_type": "stream",
     "text": [
      " 31%|███       | 46/150 [08:54<20:05, 11.59s/it]"
     ]
    },
    {
     "name": "stdout",
     "output_type": "stream",
     "text": [
      "Epoch: 46, Loss Train: 0.1009, Dice Train: 0.9723, Loss Test: 0.4412, Dice Test: 0.9196\n"
     ]
    },
    {
     "name": "stderr",
     "output_type": "stream",
     "text": [
      " 31%|███▏      | 47/150 [09:05<19:49, 11.55s/it]"
     ]
    },
    {
     "name": "stdout",
     "output_type": "stream",
     "text": [
      "Epoch: 47, Loss Train: 0.0976, Dice Train: 0.9729, Loss Test: 0.3964, Dice Test: 0.9225\n"
     ]
    },
    {
     "name": "stderr",
     "output_type": "stream",
     "text": [
      " 32%|███▏      | 48/150 [09:17<19:38, 11.55s/it]"
     ]
    },
    {
     "name": "stdout",
     "output_type": "stream",
     "text": [
      "Epoch: 48, Loss Train: 0.0945, Dice Train: 0.9731, Loss Test: 0.3525, Dice Test: 0.9303\n"
     ]
    },
    {
     "name": "stderr",
     "output_type": "stream",
     "text": [
      " 33%|███▎      | 49/150 [09:28<19:25, 11.54s/it]"
     ]
    },
    {
     "name": "stdout",
     "output_type": "stream",
     "text": [
      "Epoch: 49, Loss Train: 0.0950, Dice Train: 0.9728, Loss Test: 0.3566, Dice Test: 0.9273\n"
     ]
    },
    {
     "name": "stderr",
     "output_type": "stream",
     "text": [
      " 33%|███▎      | 50/150 [09:40<19:14, 11.55s/it]"
     ]
    },
    {
     "name": "stdout",
     "output_type": "stream",
     "text": [
      "Epoch: 50, Loss Train: 0.0984, Dice Train: 0.9719, Loss Test: 0.5135, Dice Test: 0.9146\n"
     ]
    },
    {
     "name": "stderr",
     "output_type": "stream",
     "text": [
      " 34%|███▍      | 51/150 [09:51<19:00, 11.52s/it]"
     ]
    },
    {
     "name": "stdout",
     "output_type": "stream",
     "text": [
      "Epoch: 51, Loss Train: 0.0967, Dice Train: 0.9719, Loss Test: 0.3485, Dice Test: 0.9330\n"
     ]
    },
    {
     "name": "stderr",
     "output_type": "stream",
     "text": [
      " 35%|███▍      | 52/150 [10:03<18:50, 11.54s/it]"
     ]
    },
    {
     "name": "stdout",
     "output_type": "stream",
     "text": [
      "Epoch: 52, Loss Train: 0.1000, Dice Train: 0.9709, Loss Test: 0.4822, Dice Test: 0.9178\n"
     ]
    },
    {
     "name": "stderr",
     "output_type": "stream",
     "text": [
      " 35%|███▌      | 53/150 [10:14<18:40, 11.55s/it]"
     ]
    },
    {
     "name": "stdout",
     "output_type": "stream",
     "text": [
      "Epoch: 53, Loss Train: 0.0971, Dice Train: 0.9724, Loss Test: 0.3557, Dice Test: 0.9307\n"
     ]
    },
    {
     "name": "stderr",
     "output_type": "stream",
     "text": [
      " 36%|███▌      | 54/150 [10:26<18:31, 11.58s/it]"
     ]
    },
    {
     "name": "stdout",
     "output_type": "stream",
     "text": [
      "Epoch: 54, Loss Train: 0.0935, Dice Train: 0.9729, Loss Test: 0.4003, Dice Test: 0.9256\n"
     ]
    },
    {
     "name": "stderr",
     "output_type": "stream",
     "text": [
      " 37%|███▋      | 55/150 [10:38<18:21, 11.59s/it]"
     ]
    },
    {
     "name": "stdout",
     "output_type": "stream",
     "text": [
      "Epoch: 55, Loss Train: 0.0868, Dice Train: 0.9742, Loss Test: 0.4212, Dice Test: 0.9263\n"
     ]
    },
    {
     "name": "stderr",
     "output_type": "stream",
     "text": [
      " 37%|███▋      | 56/150 [10:49<18:03, 11.53s/it]"
     ]
    },
    {
     "name": "stdout",
     "output_type": "stream",
     "text": [
      "Epoch: 56, Loss Train: 0.1142, Dice Train: 0.9688, Loss Test: 0.7269, Dice Test: 0.8696\n"
     ]
    },
    {
     "name": "stderr",
     "output_type": "stream",
     "text": [
      " 38%|███▊      | 57/150 [11:01<17:49, 11.50s/it]"
     ]
    },
    {
     "name": "stdout",
     "output_type": "stream",
     "text": [
      "Epoch: 57, Loss Train: 0.1640, Dice Train: 0.9578, Loss Test: 0.2901, Dice Test: 0.9265\n"
     ]
    },
    {
     "name": "stderr",
     "output_type": "stream",
     "text": [
      " 39%|███▊      | 58/150 [11:12<17:39, 11.51s/it]"
     ]
    },
    {
     "name": "stdout",
     "output_type": "stream",
     "text": [
      "Epoch: 58, Loss Train: 0.1516, Dice Train: 0.9592, Loss Test: 0.4410, Dice Test: 0.9028\n"
     ]
    },
    {
     "name": "stderr",
     "output_type": "stream",
     "text": [
      " 39%|███▉      | 59/150 [11:23<17:23, 11.47s/it]"
     ]
    },
    {
     "name": "stdout",
     "output_type": "stream",
     "text": [
      "Epoch: 59, Loss Train: 0.1440, Dice Train: 0.9617, Loss Test: 0.2805, Dice Test: 0.9335\n"
     ]
    },
    {
     "name": "stderr",
     "output_type": "stream",
     "text": [
      " 40%|████      | 60/150 [11:35<17:14, 11.49s/it]"
     ]
    },
    {
     "name": "stdout",
     "output_type": "stream",
     "text": [
      "Epoch: 60, Loss Train: 0.1071, Dice Train: 0.9708, Loss Test: 0.3304, Dice Test: 0.9299\n"
     ]
    },
    {
     "name": "stderr",
     "output_type": "stream",
     "text": [
      " 41%|████      | 61/150 [11:46<17:01, 11.48s/it]"
     ]
    },
    {
     "name": "stdout",
     "output_type": "stream",
     "text": [
      "Epoch: 61, Loss Train: 0.0894, Dice Train: 0.9747, Loss Test: 0.3212, Dice Test: 0.9357\n"
     ]
    },
    {
     "name": "stderr",
     "output_type": "stream",
     "text": [
      " 41%|████▏     | 62/150 [11:58<16:49, 11.47s/it]"
     ]
    },
    {
     "name": "stdout",
     "output_type": "stream",
     "text": [
      "Epoch: 62, Loss Train: 0.0815, Dice Train: 0.9764, Loss Test: 0.3386, Dice Test: 0.9351\n"
     ]
    },
    {
     "name": "stderr",
     "output_type": "stream",
     "text": [
      " 42%|████▏     | 63/150 [12:09<16:37, 11.47s/it]"
     ]
    },
    {
     "name": "stdout",
     "output_type": "stream",
     "text": [
      "Epoch: 63, Loss Train: 0.0772, Dice Train: 0.9770, Loss Test: 0.3716, Dice Test: 0.9329\n"
     ]
    },
    {
     "name": "stderr",
     "output_type": "stream",
     "text": [
      " 43%|████▎     | 64/150 [12:21<16:22, 11.43s/it]"
     ]
    },
    {
     "name": "stdout",
     "output_type": "stream",
     "text": [
      "Epoch: 64, Loss Train: 0.0741, Dice Train: 0.9775, Loss Test: 0.3757, Dice Test: 0.9318\n"
     ]
    },
    {
     "name": "stderr",
     "output_type": "stream",
     "text": [
      " 43%|████▎     | 65/150 [12:32<16:12, 11.44s/it]"
     ]
    },
    {
     "name": "stdout",
     "output_type": "stream",
     "text": [
      "Epoch: 65, Loss Train: 0.0726, Dice Train: 0.9777, Loss Test: 0.4058, Dice Test: 0.9281\n"
     ]
    },
    {
     "name": "stderr",
     "output_type": "stream",
     "text": [
      " 44%|████▍     | 66/150 [12:44<15:59, 11.42s/it]"
     ]
    },
    {
     "name": "stdout",
     "output_type": "stream",
     "text": [
      "Epoch: 66, Loss Train: 0.0713, Dice Train: 0.9778, Loss Test: 0.4168, Dice Test: 0.9296\n"
     ]
    },
    {
     "name": "stderr",
     "output_type": "stream",
     "text": [
      " 45%|████▍     | 67/150 [12:55<15:53, 11.49s/it]"
     ]
    },
    {
     "name": "stdout",
     "output_type": "stream",
     "text": [
      "Epoch: 67, Loss Train: 0.0709, Dice Train: 0.9776, Loss Test: 0.4002, Dice Test: 0.9333\n"
     ]
    },
    {
     "name": "stderr",
     "output_type": "stream",
     "text": [
      " 45%|████▌     | 68/150 [13:07<15:43, 11.51s/it]"
     ]
    },
    {
     "name": "stdout",
     "output_type": "stream",
     "text": [
      "Epoch: 68, Loss Train: 0.0707, Dice Train: 0.9775, Loss Test: 0.3626, Dice Test: 0.9343\n"
     ]
    },
    {
     "name": "stderr",
     "output_type": "stream",
     "text": [
      " 46%|████▌     | 69/150 [13:18<15:34, 11.54s/it]"
     ]
    },
    {
     "name": "stdout",
     "output_type": "stream",
     "text": [
      "Epoch: 69, Loss Train: 0.0704, Dice Train: 0.9772, Loss Test: 0.3703, Dice Test: 0.9331\n"
     ]
    },
    {
     "name": "stderr",
     "output_type": "stream",
     "text": [
      " 47%|████▋     | 70/150 [13:30<15:24, 11.56s/it]"
     ]
    },
    {
     "name": "stdout",
     "output_type": "stream",
     "text": [
      "Epoch: 70, Loss Train: 0.0692, Dice Train: 0.9774, Loss Test: 0.3489, Dice Test: 0.9360\n"
     ]
    },
    {
     "name": "stderr",
     "output_type": "stream",
     "text": [
      " 47%|████▋     | 71/150 [13:42<15:15, 11.59s/it]"
     ]
    },
    {
     "name": "stdout",
     "output_type": "stream",
     "text": [
      "Epoch: 71, Loss Train: 0.0682, Dice Train: 0.9778, Loss Test: 0.3619, Dice Test: 0.9364\n"
     ]
    },
    {
     "name": "stderr",
     "output_type": "stream",
     "text": [
      " 48%|████▊     | 72/150 [13:53<15:03, 11.58s/it]"
     ]
    },
    {
     "name": "stdout",
     "output_type": "stream",
     "text": [
      "Epoch: 72, Loss Train: 0.0689, Dice Train: 0.9771, Loss Test: 0.3811, Dice Test: 0.9308\n"
     ]
    },
    {
     "name": "stderr",
     "output_type": "stream",
     "text": [
      " 49%|████▊     | 73/150 [14:05<14:50, 11.56s/it]"
     ]
    },
    {
     "name": "stdout",
     "output_type": "stream",
     "text": [
      "Epoch: 73, Loss Train: 0.0729, Dice Train: 0.9754, Loss Test: 0.3872, Dice Test: 0.9248\n"
     ]
    },
    {
     "name": "stderr",
     "output_type": "stream",
     "text": [
      " 49%|████▉     | 74/150 [14:16<14:39, 11.57s/it]"
     ]
    },
    {
     "name": "stdout",
     "output_type": "stream",
     "text": [
      "Epoch: 74, Loss Train: 0.0735, Dice Train: 0.9753, Loss Test: 0.3261, Dice Test: 0.9378\n"
     ]
    },
    {
     "name": "stderr",
     "output_type": "stream",
     "text": [
      " 50%|█████     | 75/150 [14:28<14:30, 11.61s/it]"
     ]
    },
    {
     "name": "stdout",
     "output_type": "stream",
     "text": [
      "Epoch: 75, Loss Train: 0.0674, Dice Train: 0.9777, Loss Test: 0.3682, Dice Test: 0.9392\n"
     ]
    },
    {
     "name": "stderr",
     "output_type": "stream",
     "text": [
      " 51%|█████     | 76/150 [14:39<14:15, 11.57s/it]"
     ]
    },
    {
     "name": "stdout",
     "output_type": "stream",
     "text": [
      "Epoch: 76, Loss Train: 0.0618, Dice Train: 0.9797, Loss Test: 0.3915, Dice Test: 0.9361\n"
     ]
    },
    {
     "name": "stderr",
     "output_type": "stream",
     "text": [
      " 51%|█████▏    | 77/150 [14:51<14:08, 11.62s/it]"
     ]
    },
    {
     "name": "stdout",
     "output_type": "stream",
     "text": [
      "Epoch: 77, Loss Train: 0.0580, Dice Train: 0.9807, Loss Test: 0.3970, Dice Test: 0.9355\n"
     ]
    },
    {
     "name": "stderr",
     "output_type": "stream",
     "text": [
      " 52%|█████▏    | 78/150 [15:03<13:52, 11.57s/it]"
     ]
    },
    {
     "name": "stdout",
     "output_type": "stream",
     "text": [
      "Epoch: 78, Loss Train: 0.0559, Dice Train: 0.9813, Loss Test: 0.4119, Dice Test: 0.9356\n"
     ]
    },
    {
     "name": "stderr",
     "output_type": "stream",
     "text": [
      " 53%|█████▎    | 79/150 [15:14<13:40, 11.56s/it]"
     ]
    },
    {
     "name": "stdout",
     "output_type": "stream",
     "text": [
      "Epoch: 79, Loss Train: 0.0550, Dice Train: 0.9815, Loss Test: 0.4360, Dice Test: 0.9345\n"
     ]
    },
    {
     "name": "stderr",
     "output_type": "stream",
     "text": [
      " 53%|█████▎    | 80/150 [15:26<13:32, 11.61s/it]"
     ]
    },
    {
     "name": "stdout",
     "output_type": "stream",
     "text": [
      "Epoch: 80, Loss Train: 0.0549, Dice Train: 0.9814, Loss Test: 0.4536, Dice Test: 0.9339\n"
     ]
    },
    {
     "name": "stderr",
     "output_type": "stream",
     "text": [
      " 54%|█████▍    | 81/150 [15:38<13:22, 11.62s/it]"
     ]
    },
    {
     "name": "stdout",
     "output_type": "stream",
     "text": [
      "Epoch: 81, Loss Train: 0.0557, Dice Train: 0.9811, Loss Test: 0.4227, Dice Test: 0.9374\n"
     ]
    },
    {
     "name": "stderr",
     "output_type": "stream",
     "text": [
      " 55%|█████▍    | 82/150 [15:49<13:09, 11.60s/it]"
     ]
    },
    {
     "name": "stdout",
     "output_type": "stream",
     "text": [
      "Epoch: 82, Loss Train: 0.0564, Dice Train: 0.9808, Loss Test: 0.4685, Dice Test: 0.9346\n"
     ]
    },
    {
     "name": "stderr",
     "output_type": "stream",
     "text": [
      " 55%|█████▌    | 83/150 [16:01<12:53, 11.54s/it]"
     ]
    },
    {
     "name": "stdout",
     "output_type": "stream",
     "text": [
      "Epoch: 83, Loss Train: 0.0572, Dice Train: 0.9806, Loss Test: 0.4879, Dice Test: 0.9346\n"
     ]
    },
    {
     "name": "stderr",
     "output_type": "stream",
     "text": [
      " 56%|█████▌    | 84/150 [16:12<12:42, 11.56s/it]"
     ]
    },
    {
     "name": "stdout",
     "output_type": "stream",
     "text": [
      "Epoch: 84, Loss Train: 0.0575, Dice Train: 0.9807, Loss Test: 0.4682, Dice Test: 0.9350\n"
     ]
    },
    {
     "name": "stderr",
     "output_type": "stream",
     "text": [
      " 57%|█████▋    | 85/150 [16:24<12:33, 11.60s/it]"
     ]
    },
    {
     "name": "stdout",
     "output_type": "stream",
     "text": [
      "Epoch: 85, Loss Train: 0.0568, Dice Train: 0.9811, Loss Test: 0.4698, Dice Test: 0.9344\n"
     ]
    },
    {
     "name": "stderr",
     "output_type": "stream",
     "text": [
      " 57%|█████▋    | 86/150 [16:35<12:20, 11.57s/it]"
     ]
    },
    {
     "name": "stdout",
     "output_type": "stream",
     "text": [
      "Epoch: 86, Loss Train: 0.0562, Dice Train: 0.9810, Loss Test: 0.4782, Dice Test: 0.9372\n"
     ]
    },
    {
     "name": "stderr",
     "output_type": "stream",
     "text": [
      " 58%|█████▊    | 87/150 [16:47<12:08, 11.57s/it]"
     ]
    },
    {
     "name": "stdout",
     "output_type": "stream",
     "text": [
      "Epoch: 87, Loss Train: 0.0560, Dice Train: 0.9812, Loss Test: 0.4349, Dice Test: 0.9389\n"
     ]
    },
    {
     "name": "stderr",
     "output_type": "stream",
     "text": [
      " 59%|█████▊    | 88/150 [16:58<11:54, 11.53s/it]"
     ]
    },
    {
     "name": "stdout",
     "output_type": "stream",
     "text": [
      "Epoch: 88, Loss Train: 0.0548, Dice Train: 0.9814, Loss Test: 0.4213, Dice Test: 0.9399\n"
     ]
    },
    {
     "name": "stderr",
     "output_type": "stream",
     "text": [
      " 59%|█████▉    | 89/150 [17:10<11:43, 11.54s/it]"
     ]
    },
    {
     "name": "stdout",
     "output_type": "stream",
     "text": [
      "Epoch: 89, Loss Train: 0.0537, Dice Train: 0.9817, Loss Test: 0.4578, Dice Test: 0.9349\n"
     ]
    },
    {
     "name": "stderr",
     "output_type": "stream",
     "text": [
      " 60%|██████    | 90/150 [17:21<11:32, 11.54s/it]"
     ]
    },
    {
     "name": "stdout",
     "output_type": "stream",
     "text": [
      "Epoch: 90, Loss Train: 0.0544, Dice Train: 0.9814, Loss Test: 0.4926, Dice Test: 0.9330\n"
     ]
    },
    {
     "name": "stderr",
     "output_type": "stream",
     "text": [
      " 61%|██████    | 91/150 [17:33<11:23, 11.58s/it]"
     ]
    },
    {
     "name": "stdout",
     "output_type": "stream",
     "text": [
      "Epoch: 91, Loss Train: 0.0555, Dice Train: 0.9810, Loss Test: 0.4883, Dice Test: 0.9332\n"
     ]
    },
    {
     "name": "stderr",
     "output_type": "stream",
     "text": [
      " 61%|██████▏   | 92/150 [17:45<11:10, 11.57s/it]"
     ]
    },
    {
     "name": "stdout",
     "output_type": "stream",
     "text": [
      "Epoch: 92, Loss Train: 0.0574, Dice Train: 0.9804, Loss Test: 0.5151, Dice Test: 0.9315\n"
     ]
    },
    {
     "name": "stderr",
     "output_type": "stream",
     "text": [
      " 62%|██████▏   | 93/150 [17:56<10:58, 11.56s/it]"
     ]
    },
    {
     "name": "stdout",
     "output_type": "stream",
     "text": [
      "Epoch: 93, Loss Train: 0.0666, Dice Train: 0.9791, Loss Test: 0.4360, Dice Test: 0.9367\n"
     ]
    },
    {
     "name": "stderr",
     "output_type": "stream",
     "text": [
      " 63%|██████▎   | 94/150 [18:08<10:45, 11.53s/it]"
     ]
    },
    {
     "name": "stdout",
     "output_type": "stream",
     "text": [
      "Epoch: 94, Loss Train: 0.1781, Dice Train: 0.9544, Loss Test: 0.4210, Dice Test: 0.8875\n"
     ]
    },
    {
     "name": "stderr",
     "output_type": "stream",
     "text": [
      " 63%|██████▎   | 95/150 [18:19<10:31, 11.48s/it]"
     ]
    },
    {
     "name": "stdout",
     "output_type": "stream",
     "text": [
      "Epoch: 95, Loss Train: 0.1859, Dice Train: 0.9505, Loss Test: 0.2910, Dice Test: 0.9233\n"
     ]
    },
    {
     "name": "stderr",
     "output_type": "stream",
     "text": [
      " 64%|██████▍   | 96/150 [18:31<10:21, 11.51s/it]"
     ]
    },
    {
     "name": "stdout",
     "output_type": "stream",
     "text": [
      "Epoch: 96, Loss Train: 0.1435, Dice Train: 0.9616, Loss Test: 0.2625, Dice Test: 0.9335\n"
     ]
    },
    {
     "name": "stderr",
     "output_type": "stream",
     "text": [
      " 65%|██████▍   | 97/150 [18:42<10:13, 11.57s/it]"
     ]
    },
    {
     "name": "stdout",
     "output_type": "stream",
     "text": [
      "Epoch: 97, Loss Train: 0.1119, Dice Train: 0.9694, Loss Test: 0.2811, Dice Test: 0.9346\n"
     ]
    },
    {
     "name": "stderr",
     "output_type": "stream",
     "text": [
      " 65%|██████▌   | 98/150 [18:54<10:03, 11.60s/it]"
     ]
    },
    {
     "name": "stdout",
     "output_type": "stream",
     "text": [
      "Epoch: 98, Loss Train: 0.0967, Dice Train: 0.9728, Loss Test: 0.2881, Dice Test: 0.9369\n"
     ]
    },
    {
     "name": "stderr",
     "output_type": "stream",
     "text": [
      " 66%|██████▌   | 99/150 [19:06<09:51, 11.59s/it]"
     ]
    },
    {
     "name": "stdout",
     "output_type": "stream",
     "text": [
      "Epoch: 99, Loss Train: 0.0781, Dice Train: 0.9764, Loss Test: 0.2946, Dice Test: 0.9406\n"
     ]
    },
    {
     "name": "stderr",
     "output_type": "stream",
     "text": [
      " 67%|██████▋   | 100/150 [19:17<09:40, 11.60s/it]"
     ]
    },
    {
     "name": "stdout",
     "output_type": "stream",
     "text": [
      "Epoch: 100, Loss Train: 0.0694, Dice Train: 0.9782, Loss Test: 0.3362, Dice Test: 0.9384\n"
     ]
    },
    {
     "name": "stderr",
     "output_type": "stream",
     "text": [
      " 67%|██████▋   | 101/150 [19:29<09:29, 11.61s/it]"
     ]
    },
    {
     "name": "stdout",
     "output_type": "stream",
     "text": [
      "Epoch: 101, Loss Train: 0.0643, Dice Train: 0.9792, Loss Test: 0.3615, Dice Test: 0.9382\n"
     ]
    },
    {
     "name": "stderr",
     "output_type": "stream",
     "text": [
      " 68%|██████▊   | 102/150 [19:40<09:17, 11.61s/it]"
     ]
    },
    {
     "name": "stdout",
     "output_type": "stream",
     "text": [
      "Epoch: 102, Loss Train: 0.0612, Dice Train: 0.9798, Loss Test: 0.3659, Dice Test: 0.9395\n"
     ]
    },
    {
     "name": "stderr",
     "output_type": "stream",
     "text": [
      " 69%|██████▊   | 103/150 [19:52<09:04, 11.59s/it]"
     ]
    },
    {
     "name": "stdout",
     "output_type": "stream",
     "text": [
      "Epoch: 103, Loss Train: 0.0593, Dice Train: 0.9803, Loss Test: 0.3466, Dice Test: 0.9420\n"
     ]
    },
    {
     "name": "stderr",
     "output_type": "stream",
     "text": [
      " 69%|██████▉   | 104/150 [20:03<08:52, 11.57s/it]"
     ]
    },
    {
     "name": "stdout",
     "output_type": "stream",
     "text": [
      "Epoch: 104, Loss Train: 0.0583, Dice Train: 0.9804, Loss Test: 0.3524, Dice Test: 0.9401\n"
     ]
    },
    {
     "name": "stderr",
     "output_type": "stream",
     "text": [
      " 70%|███████   | 105/150 [20:15<08:39, 11.55s/it]"
     ]
    },
    {
     "name": "stdout",
     "output_type": "stream",
     "text": [
      "Epoch: 105, Loss Train: 0.0586, Dice Train: 0.9801, Loss Test: 0.3495, Dice Test: 0.9402\n"
     ]
    },
    {
     "name": "stderr",
     "output_type": "stream",
     "text": [
      " 71%|███████   | 106/150 [20:27<08:28, 11.55s/it]"
     ]
    },
    {
     "name": "stdout",
     "output_type": "stream",
     "text": [
      "Epoch: 106, Loss Train: 0.0600, Dice Train: 0.9795, Loss Test: 0.3368, Dice Test: 0.9427\n"
     ]
    },
    {
     "name": "stderr",
     "output_type": "stream",
     "text": [
      " 71%|███████▏  | 107/150 [20:38<08:17, 11.56s/it]"
     ]
    },
    {
     "name": "stdout",
     "output_type": "stream",
     "text": [
      "Epoch: 107, Loss Train: 0.0625, Dice Train: 0.9787, Loss Test: 0.3742, Dice Test: 0.9405\n"
     ]
    },
    {
     "name": "stderr",
     "output_type": "stream",
     "text": [
      " 72%|███████▏  | 108/150 [20:50<08:07, 11.60s/it]"
     ]
    },
    {
     "name": "stdout",
     "output_type": "stream",
     "text": [
      "Epoch: 108, Loss Train: 0.0636, Dice Train: 0.9784, Loss Test: 0.3496, Dice Test: 0.9432\n"
     ]
    },
    {
     "name": "stderr",
     "output_type": "stream",
     "text": [
      " 73%|███████▎  | 109/150 [21:01<07:55, 11.59s/it]"
     ]
    },
    {
     "name": "stdout",
     "output_type": "stream",
     "text": [
      "Epoch: 109, Loss Train: 0.0574, Dice Train: 0.9803, Loss Test: 0.3532, Dice Test: 0.9430\n"
     ]
    },
    {
     "name": "stderr",
     "output_type": "stream",
     "text": [
      " 73%|███████▎  | 110/150 [21:13<07:44, 11.61s/it]"
     ]
    },
    {
     "name": "stdout",
     "output_type": "stream",
     "text": [
      "Epoch: 110, Loss Train: 0.0524, Dice Train: 0.9820, Loss Test: 0.3723, Dice Test: 0.9423\n"
     ]
    },
    {
     "name": "stderr",
     "output_type": "stream",
     "text": [
      " 74%|███████▍  | 111/150 [21:25<07:31, 11.57s/it]"
     ]
    },
    {
     "name": "stdout",
     "output_type": "stream",
     "text": [
      "Epoch: 111, Loss Train: 0.0508, Dice Train: 0.9825, Loss Test: 0.3748, Dice Test: 0.9434\n"
     ]
    },
    {
     "name": "stderr",
     "output_type": "stream",
     "text": [
      " 75%|███████▍  | 112/150 [21:36<07:19, 11.57s/it]"
     ]
    },
    {
     "name": "stdout",
     "output_type": "stream",
     "text": [
      "Epoch: 112, Loss Train: 0.0504, Dice Train: 0.9825, Loss Test: 0.4287, Dice Test: 0.9407\n"
     ]
    },
    {
     "name": "stderr",
     "output_type": "stream",
     "text": [
      " 75%|███████▌  | 113/150 [21:48<07:08, 11.58s/it]"
     ]
    },
    {
     "name": "stdout",
     "output_type": "stream",
     "text": [
      "Epoch: 113, Loss Train: 0.0501, Dice Train: 0.9826, Loss Test: 0.4515, Dice Test: 0.9393\n"
     ]
    },
    {
     "name": "stderr",
     "output_type": "stream",
     "text": [
      " 76%|███████▌  | 114/150 [21:59<06:57, 11.59s/it]"
     ]
    },
    {
     "name": "stdout",
     "output_type": "stream",
     "text": [
      "Epoch: 114, Loss Train: 0.0511, Dice Train: 0.9822, Loss Test: 0.4201, Dice Test: 0.9416\n"
     ]
    },
    {
     "name": "stderr",
     "output_type": "stream",
     "text": [
      " 77%|███████▋  | 115/150 [22:11<06:47, 11.64s/it]"
     ]
    },
    {
     "name": "stdout",
     "output_type": "stream",
     "text": [
      "Epoch: 115, Loss Train: 0.0520, Dice Train: 0.9820, Loss Test: 0.4063, Dice Test: 0.9420\n"
     ]
    },
    {
     "name": "stderr",
     "output_type": "stream",
     "text": [
      " 77%|███████▋  | 116/150 [22:23<06:35, 11.63s/it]"
     ]
    },
    {
     "name": "stdout",
     "output_type": "stream",
     "text": [
      "Epoch: 116, Loss Train: 0.0519, Dice Train: 0.9818, Loss Test: 0.4170, Dice Test: 0.9413\n"
     ]
    },
    {
     "name": "stderr",
     "output_type": "stream",
     "text": [
      " 78%|███████▊  | 117/150 [22:34<06:23, 11.63s/it]"
     ]
    },
    {
     "name": "stdout",
     "output_type": "stream",
     "text": [
      "Epoch: 117, Loss Train: 0.0517, Dice Train: 0.9819, Loss Test: 0.4063, Dice Test: 0.9407\n"
     ]
    },
    {
     "name": "stderr",
     "output_type": "stream",
     "text": [
      " 79%|███████▊  | 118/150 [22:46<06:12, 11.63s/it]"
     ]
    },
    {
     "name": "stdout",
     "output_type": "stream",
     "text": [
      "Epoch: 118, Loss Train: 0.0519, Dice Train: 0.9819, Loss Test: 0.4279, Dice Test: 0.9384\n"
     ]
    },
    {
     "name": "stderr",
     "output_type": "stream",
     "text": [
      " 79%|███████▉  | 119/150 [22:58<06:02, 11.68s/it]"
     ]
    },
    {
     "name": "stdout",
     "output_type": "stream",
     "text": [
      "Epoch: 119, Loss Train: 0.0510, Dice Train: 0.9822, Loss Test: 0.4441, Dice Test: 0.9404\n"
     ]
    },
    {
     "name": "stderr",
     "output_type": "stream",
     "text": [
      " 80%|████████  | 120/150 [23:09<05:50, 11.68s/it]"
     ]
    },
    {
     "name": "stdout",
     "output_type": "stream",
     "text": [
      "Epoch: 120, Loss Train: 0.0500, Dice Train: 0.9825, Loss Test: 0.4550, Dice Test: 0.9405\n"
     ]
    },
    {
     "name": "stderr",
     "output_type": "stream",
     "text": [
      " 81%|████████  | 121/150 [23:21<05:38, 11.67s/it]"
     ]
    },
    {
     "name": "stdout",
     "output_type": "stream",
     "text": [
      "Epoch: 121, Loss Train: 0.0494, Dice Train: 0.9827, Loss Test: 0.4514, Dice Test: 0.9381\n"
     ]
    },
    {
     "name": "stderr",
     "output_type": "stream",
     "text": [
      " 81%|████████▏ | 122/150 [23:33<05:25, 11.64s/it]"
     ]
    },
    {
     "name": "stdout",
     "output_type": "stream",
     "text": [
      "Epoch: 122, Loss Train: 0.0495, Dice Train: 0.9825, Loss Test: 0.4759, Dice Test: 0.9341\n"
     ]
    },
    {
     "name": "stderr",
     "output_type": "stream",
     "text": [
      " 82%|████████▏ | 123/150 [23:44<05:13, 11.62s/it]"
     ]
    },
    {
     "name": "stdout",
     "output_type": "stream",
     "text": [
      "Epoch: 123, Loss Train: 0.0497, Dice Train: 0.9823, Loss Test: 0.4524, Dice Test: 0.9375\n"
     ]
    },
    {
     "name": "stderr",
     "output_type": "stream",
     "text": [
      " 83%|████████▎ | 124/150 [23:56<05:01, 11.60s/it]"
     ]
    },
    {
     "name": "stdout",
     "output_type": "stream",
     "text": [
      "Epoch: 124, Loss Train: 0.0514, Dice Train: 0.9819, Loss Test: 0.4891, Dice Test: 0.9371\n"
     ]
    },
    {
     "name": "stderr",
     "output_type": "stream",
     "text": [
      " 83%|████████▎ | 125/150 [24:07<04:49, 11.59s/it]"
     ]
    },
    {
     "name": "stdout",
     "output_type": "stream",
     "text": [
      "Epoch: 125, Loss Train: 0.0533, Dice Train: 0.9814, Loss Test: 0.5101, Dice Test: 0.9348\n"
     ]
    },
    {
     "name": "stderr",
     "output_type": "stream",
     "text": [
      " 84%|████████▍ | 126/150 [24:19<04:38, 11.60s/it]"
     ]
    },
    {
     "name": "stdout",
     "output_type": "stream",
     "text": [
      "Epoch: 126, Loss Train: 0.0542, Dice Train: 0.9811, Loss Test: 0.4922, Dice Test: 0.9390\n"
     ]
    },
    {
     "name": "stderr",
     "output_type": "stream",
     "text": [
      " 85%|████████▍ | 127/150 [24:30<04:26, 11.59s/it]"
     ]
    },
    {
     "name": "stdout",
     "output_type": "stream",
     "text": [
      "Epoch: 127, Loss Train: 0.0543, Dice Train: 0.9810, Loss Test: 0.5076, Dice Test: 0.9357\n"
     ]
    },
    {
     "name": "stderr",
     "output_type": "stream",
     "text": [
      " 85%|████████▌ | 128/150 [24:42<04:15, 11.59s/it]"
     ]
    },
    {
     "name": "stdout",
     "output_type": "stream",
     "text": [
      "Epoch: 128, Loss Train: 0.0549, Dice Train: 0.9811, Loss Test: 0.4787, Dice Test: 0.9342\n"
     ]
    },
    {
     "name": "stderr",
     "output_type": "stream",
     "text": [
      " 86%|████████▌ | 129/150 [24:54<04:03, 11.61s/it]"
     ]
    },
    {
     "name": "stdout",
     "output_type": "stream",
     "text": [
      "Epoch: 129, Loss Train: 0.0534, Dice Train: 0.9815, Loss Test: 0.4481, Dice Test: 0.9395\n"
     ]
    },
    {
     "name": "stderr",
     "output_type": "stream",
     "text": [
      " 87%|████████▋ | 130/150 [25:05<03:52, 11.62s/it]"
     ]
    },
    {
     "name": "stdout",
     "output_type": "stream",
     "text": [
      "Epoch: 130, Loss Train: 0.0512, Dice Train: 0.9823, Loss Test: 0.4939, Dice Test: 0.9373\n"
     ]
    },
    {
     "name": "stderr",
     "output_type": "stream",
     "text": [
      " 87%|████████▋ | 131/150 [25:17<03:41, 11.65s/it]"
     ]
    },
    {
     "name": "stdout",
     "output_type": "stream",
     "text": [
      "Epoch: 131, Loss Train: 0.0504, Dice Train: 0.9826, Loss Test: 0.4702, Dice Test: 0.9381\n"
     ]
    },
    {
     "name": "stderr",
     "output_type": "stream",
     "text": [
      " 88%|████████▊ | 132/150 [25:29<03:30, 11.67s/it]"
     ]
    },
    {
     "name": "stdout",
     "output_type": "stream",
     "text": [
      "Epoch: 132, Loss Train: 0.0500, Dice Train: 0.9825, Loss Test: 0.4415, Dice Test: 0.9400\n"
     ]
    },
    {
     "name": "stderr",
     "output_type": "stream",
     "text": [
      " 89%|████████▊ | 133/150 [25:40<03:18, 11.65s/it]"
     ]
    },
    {
     "name": "stdout",
     "output_type": "stream",
     "text": [
      "Epoch: 133, Loss Train: 0.0499, Dice Train: 0.9824, Loss Test: 0.4400, Dice Test: 0.9381\n"
     ]
    },
    {
     "name": "stderr",
     "output_type": "stream",
     "text": [
      " 89%|████████▉ | 134/150 [25:52<03:05, 11.62s/it]"
     ]
    },
    {
     "name": "stdout",
     "output_type": "stream",
     "text": [
      "Epoch: 134, Loss Train: 0.0500, Dice Train: 0.9824, Loss Test: 0.4592, Dice Test: 0.9377\n"
     ]
    },
    {
     "name": "stderr",
     "output_type": "stream",
     "text": [
      " 90%|█████████ | 135/150 [26:04<02:54, 11.61s/it]"
     ]
    },
    {
     "name": "stdout",
     "output_type": "stream",
     "text": [
      "Epoch: 135, Loss Train: 0.0511, Dice Train: 0.9822, Loss Test: 0.4634, Dice Test: 0.9421\n"
     ]
    },
    {
     "name": "stderr",
     "output_type": "stream",
     "text": [
      " 91%|█████████ | 136/150 [26:15<02:42, 11.59s/it]"
     ]
    },
    {
     "name": "stdout",
     "output_type": "stream",
     "text": [
      "Epoch: 136, Loss Train: 0.0524, Dice Train: 0.9820, Loss Test: 0.5288, Dice Test: 0.9383\n"
     ]
    },
    {
     "name": "stderr",
     "output_type": "stream",
     "text": [
      " 91%|█████████▏| 137/150 [26:27<02:30, 11.60s/it]"
     ]
    },
    {
     "name": "stdout",
     "output_type": "stream",
     "text": [
      "Epoch: 137, Loss Train: 0.0526, Dice Train: 0.9819, Loss Test: 0.5143, Dice Test: 0.9399\n"
     ]
    },
    {
     "name": "stderr",
     "output_type": "stream",
     "text": [
      " 92%|█████████▏| 138/150 [26:38<02:19, 11.61s/it]"
     ]
    },
    {
     "name": "stdout",
     "output_type": "stream",
     "text": [
      "Epoch: 138, Loss Train: 0.0537, Dice Train: 0.9815, Loss Test: 0.4954, Dice Test: 0.9383\n"
     ]
    },
    {
     "name": "stderr",
     "output_type": "stream",
     "text": [
      " 93%|█████████▎| 139/150 [26:50<02:08, 11.65s/it]"
     ]
    },
    {
     "name": "stdout",
     "output_type": "stream",
     "text": [
      "Epoch: 139, Loss Train: 0.0531, Dice Train: 0.9815, Loss Test: 0.5079, Dice Test: 0.9343\n"
     ]
    },
    {
     "name": "stderr",
     "output_type": "stream",
     "text": [
      " 93%|█████████▎| 140/150 [27:02<01:56, 11.64s/it]"
     ]
    },
    {
     "name": "stdout",
     "output_type": "stream",
     "text": [
      "Epoch: 140, Loss Train: 0.0524, Dice Train: 0.9818, Loss Test: 0.5068, Dice Test: 0.9333\n"
     ]
    },
    {
     "name": "stderr",
     "output_type": "stream",
     "text": [
      " 94%|█████████▍| 141/150 [27:13<01:44, 11.60s/it]"
     ]
    },
    {
     "name": "stdout",
     "output_type": "stream",
     "text": [
      "Epoch: 141, Loss Train: 0.0538, Dice Train: 0.9815, Loss Test: 0.5053, Dice Test: 0.9352\n"
     ]
    },
    {
     "name": "stderr",
     "output_type": "stream",
     "text": [
      " 95%|█████████▍| 142/150 [27:25<01:32, 11.60s/it]"
     ]
    },
    {
     "name": "stdout",
     "output_type": "stream",
     "text": [
      "Epoch: 142, Loss Train: 0.0533, Dice Train: 0.9815, Loss Test: 0.6008, Dice Test: 0.9295\n"
     ]
    },
    {
     "name": "stderr",
     "output_type": "stream",
     "text": [
      " 95%|█████████▌| 143/150 [27:36<01:21, 11.61s/it]"
     ]
    },
    {
     "name": "stdout",
     "output_type": "stream",
     "text": [
      "Epoch: 143, Loss Train: 0.0524, Dice Train: 0.9817, Loss Test: 0.5276, Dice Test: 0.9289\n"
     ]
    },
    {
     "name": "stderr",
     "output_type": "stream",
     "text": [
      " 96%|█████████▌| 144/150 [27:48<01:09, 11.62s/it]"
     ]
    },
    {
     "name": "stdout",
     "output_type": "stream",
     "text": [
      "Epoch: 144, Loss Train: 0.0851, Dice Train: 0.9764, Loss Test: 0.4894, Dice Test: 0.8998\n"
     ]
    },
    {
     "name": "stderr",
     "output_type": "stream",
     "text": [
      " 97%|█████████▋| 145/150 [28:00<00:58, 11.64s/it]"
     ]
    },
    {
     "name": "stdout",
     "output_type": "stream",
     "text": [
      "Epoch: 145, Loss Train: 0.1778, Dice Train: 0.9532, Loss Test: 0.2828, Dice Test: 0.9316\n"
     ]
    },
    {
     "name": "stderr",
     "output_type": "stream",
     "text": [
      " 97%|█████████▋| 146/150 [28:11<00:46, 11.64s/it]"
     ]
    },
    {
     "name": "stdout",
     "output_type": "stream",
     "text": [
      "Epoch: 146, Loss Train: 0.1301, Dice Train: 0.9655, Loss Test: 0.3356, Dice Test: 0.9303\n"
     ]
    },
    {
     "name": "stderr",
     "output_type": "stream",
     "text": [
      " 98%|█████████▊| 147/150 [28:23<00:34, 11.57s/it]"
     ]
    },
    {
     "name": "stdout",
     "output_type": "stream",
     "text": [
      "Epoch: 147, Loss Train: 0.1132, Dice Train: 0.9697, Loss Test: 0.2818, Dice Test: 0.9344\n"
     ]
    },
    {
     "name": "stderr",
     "output_type": "stream",
     "text": [
      " 99%|█████████▊| 148/150 [28:34<00:23, 11.54s/it]"
     ]
    },
    {
     "name": "stdout",
     "output_type": "stream",
     "text": [
      "Epoch: 148, Loss Train: 0.1317, Dice Train: 0.9659, Loss Test: 0.2948, Dice Test: 0.9315\n"
     ]
    },
    {
     "name": "stderr",
     "output_type": "stream",
     "text": [
      " 99%|█████████▉| 149/150 [28:46<00:11, 11.54s/it]"
     ]
    },
    {
     "name": "stdout",
     "output_type": "stream",
     "text": [
      "Epoch: 149, Loss Train: 0.1048, Dice Train: 0.9716, Loss Test: 0.2542, Dice Test: 0.9438\n"
     ]
    },
    {
     "name": "stderr",
     "output_type": "stream",
     "text": [
      "100%|██████████| 150/150 [28:57<00:00, 11.59s/it]"
     ]
    },
    {
     "name": "stdout",
     "output_type": "stream",
     "text": [
      "Epoch: 150, Loss Train: 0.0803, Dice Train: 0.9769, Loss Test: 0.3090, Dice Test: 0.9367\n"
     ]
    },
    {
     "name": "stderr",
     "output_type": "stream",
     "text": [
      "\n"
     ]
    }
   ],
   "source": [
    "optimizer = torch.optim.Adam(model.parameters(), lr=0.01)\n",
    "criterion = nn.BCEWithLogitsLoss()\n",
    "dice_coefficient = Dice().cuda()\n",
    "numb_epochs = 150\n",
    "\n",
    "# Best model parameters\n",
    "bestDice = 0.0\n",
    "bestModel = None\n",
    "bestEpoch = 0\n",
    "\n",
    "loss_train = []\n",
    "dice_train = []\n",
    "loss_test = []\n",
    "dice_test = []\n",
    "for epoch in tqdm(range(1, numb_epochs+1)):\n",
    "    model.train()\n",
    "    loss_epoch = 0.0\n",
    "    dice_epoch = 0.0\n",
    "    for images, masks in train_loader:\n",
    "        images = images.cuda()\n",
    "        masks = masks.cuda()\n",
    "        #\n",
    "        output = model(images)\n",
    "        main_output = model(images)['out']\n",
    "        aux_output = model(images)['aux']\n",
    "        #\n",
    "        loss_main = criterion(main_output, masks)\n",
    "        loss_aux = criterion(aux_output, masks)\n",
    "        loss = loss_main + 0.4 * loss_aux\n",
    "        #\n",
    "        binary_output = torch.sigmoid(main_output) > 0.5\n",
    "        masks = masks.int() # Convert the masks to int\n",
    "        #\n",
    "        dice = dice_coefficient(binary_output, masks)\n",
    "        #\n",
    "        optimizer.zero_grad()\n",
    "        loss.backward()\n",
    "        optimizer.step()\n",
    "        #\n",
    "        loss_epoch += loss.item()\n",
    "        dice_epoch += dice.item()\n",
    "        #\n",
    "    loss_epoch /= len(train_loader)\n",
    "    dice_epoch /= len(train_loader)\n",
    "    loss_train.append(loss_epoch)\n",
    "    dice_train.append(dice_epoch)\n",
    "\n",
    "    model.eval()\n",
    "    loss_epoch = 0.0\n",
    "    dice_epoch = 0.0\n",
    "    with torch.no_grad():\n",
    "        for images, masks in test_loader:\n",
    "            images = images.cuda()\n",
    "            masks = masks.cuda()\n",
    "            #\n",
    "            output = model(images)\n",
    "            main_output = model(images)['out']\n",
    "            aux_output = model(images)['aux']\n",
    "            #\n",
    "            loss_main = criterion(main_output, masks)\n",
    "            loss_aux = criterion(aux_output, masks)\n",
    "            loss = loss_main + 0.4 * loss_aux\n",
    "            #\n",
    "            binary_output = torch.sigmoid(main_output) > 0.5\n",
    "            masks = masks.int() # Convert the masks to int\n",
    "            #\n",
    "            dice = dice_coefficient(binary_output, masks)\n",
    "            #\n",
    "            loss_epoch += loss.item()\n",
    "            dice_epoch += dice.item()\n",
    "            #\n",
    "        loss_epoch /= len(test_loader)\n",
    "        dice_epoch /= len(test_loader)\n",
    "        # Check if the model is the best\n",
    "        if dice_epoch > bestDice:\n",
    "            bestDice = dice_epoch\n",
    "            bestModel = model\n",
    "            bestEpoch = epoch\n",
    "        #\n",
    "        loss_test.append(loss_epoch)\n",
    "        dice_test.append(dice_epoch)\n",
    "        \n",
    "    print(f\"Epoch: {epoch}, Loss Train: {loss_train[-1]:.4f}, Dice Train: {dice_train[-1]:.4f}, Loss Test: {loss_test[-1]:.4f}, Dice Test: {dice_test[-1]:.4f}\")"
   ]
  },
  {
   "cell_type": "markdown",
   "metadata": {},
   "source": [
    "## Metrics"
   ]
  },
  {
   "cell_type": "markdown",
   "metadata": {},
   "source": [
    "For the training i've used two standard metrics for the model evaluation; Loss function [BinaryCrossEntropyWithLogits](https://pytorch.org/docs/stable/generated/torch.nn.BCEWithLogitsLoss.html) and [Dice coefficient](https://lightning.ai/docs/torchmetrics/stable/classification/dice.html).\n",
    "\n",
    "Using the dice coefficient, i've setted a best model params, saving best epoch, best dice and best model."
   ]
  },
  {
   "cell_type": "code",
   "execution_count": 20,
   "metadata": {},
   "outputs": [
    {
     "data": {
      "image/png": "[encoded data removed]",
      "text/plain": [
       "<Figure size 1000x500 with 1 Axes>"
      ]
     },
     "metadata": {},
     "output_type": "display_data"
    },
    {
     "data": {
      "image/png": "[encoded data removed]",
      "text/plain": [
       "<Figure size 1000x500 with 1 Axes>"
      ]
     },
     "metadata": {},
     "output_type": "display_data"
    }
   ],
   "source": [
    "plt.figure(figsize=(10, 5))\n",
    "plt.plot(loss_train, label='Train', color='red')\n",
    "plt.plot(loss_test, label='Test', color='blue')\n",
    "plt.plot(bestEpoch, loss_test[bestEpoch-1], 'ro', label='Best model')\n",
    "plt.xlabel('Epoch')\n",
    "plt.ylim(0, 1)\n",
    "plt.ylabel('Loss')\n",
    "plt.legend()\n",
    "plt.show()\n",
    "\n",
    "plt.figure(figsize=(10, 5))\n",
    "plt.plot(dice_train, label='Train', color='red')\n",
    "plt.plot(dice_test, label='Test', color='blue')\n",
    "plt.plot(bestEpoch, dice_test[bestEpoch-1], 'ro', label='Best model')\n",
    "plt.xlabel('Epoch')\n",
    "plt.ylim(0, 1)\n",
    "plt.ylabel('Dice coefficient')\n",
    "plt.legend()\n",
    "plt.show()"
   ]
  },
  {
   "cell_type": "code",
   "execution_count": 21,
   "metadata": {},
   "outputs": [],
   "source": [
    "model = bestModel # Setting the best model"
   ]
  },
  {
   "cell_type": "code",
   "execution_count": 22,
   "metadata": {},
   "outputs": [],
   "source": [
    "# predict_image function to predict the mask of an image\n",
    "def predict_image(model, image, mask):\n",
    "    # Set the model to evaluation mode\n",
    "    model.eval()\n",
    "    with torch.no_grad():\n",
    "        output = model(image.unsqueeze(0))['out']\n",
    "        output = output.squeeze(0).squeeze(0)\n",
    "        output = torch.sigmoid(output)\n",
    "        output = output.cpu().numpy()\n",
    "    \n",
    "    binary_output = (output > 0.5).astype(int)\n",
    "    true_mask = mask.squeeze().cpu().numpy()\n",
    "\n",
    "    fig, ax = plt.subplots(1, 3, figsize=(12, 6))\n",
    "    # Plot the image, the predicted mask, and the true mask\n",
    "    ax[0].imshow(image.cpu().permute(1, 2, 0))\n",
    "    ax[0].set_title(\"Original Image\")\n",
    "    ax[1].imshow(binary_output, cmap='gray')\n",
    "    ax[1].set_title(\"Predicted Mask\")\n",
    "    ax[2].imshow(true_mask, alpha=0.5, cmap='gray')\n",
    "    ax[2].set_title(\"True Mask\")\n",
    "    plt.show()"
   ]
  },
  {
   "cell_type": "markdown",
   "metadata": {},
   "source": [
    "## Train images"
   ]
  },
  {
   "cell_type": "markdown",
   "metadata": {},
   "source": [
    "The predicted mask identify the horse and separate it from the background, showing a high level of similarity.\n",
    "\n",
    "The contours and edges of the horse in the predicted mask align well with those in the true mask, indicating the model's precision in segmentation.\n",
    "\n",
    "The main differences are in the details, the horse's ears are almost never recognised, while the hooves are sometimes not defined as they should."
   ]
  },
  {
   "cell_type": "code",
   "execution_count": 43,
   "metadata": {},
   "outputs": [
    {
     "name": "stderr",
     "output_type": "stream",
     "text": [
      "Clipping input data to the valid range for imshow with RGB data ([0..1] for floats or [0..255] for integers).\n"
     ]
    },
    {
     "data": {
      "image/png": "[encoded data removed]",
      "text/plain": [
       "<Figure size 1200x600 with 3 Axes>"
      ]
     },
     "metadata": {},
     "output_type": "display_data"
    }
   ],
   "source": [
    "idx = 19\n",
    "image = train_images[idx]\n",
    "mask = train_masks[idx]\n",
    "image = image.cuda()\n",
    "predict_image(model, image, mask)"
   ]
  },
  {
   "cell_type": "markdown",
   "metadata": {},
   "source": [
    "## Test images"
   ]
  },
  {
   "cell_type": "markdown",
   "metadata": {},
   "source": [
    "The contours and edges of the horse in the predicted mask align fairly well with those in the true mask, but there are some discrepancies, particularly around the legs and finer features of the horse, indicating areas where the model could improve."
   ]
  },
  {
   "cell_type": "code",
   "execution_count": 40,
   "metadata": {},
   "outputs": [
    {
     "name": "stderr",
     "output_type": "stream",
     "text": [
      "Clipping input data to the valid range for imshow with RGB data ([0..1] for floats or [0..255] for integers).\n"
     ]
    },
    {
     "data": {
      "image/png": "[encoded data removed]",
      "text/plain": [
       "<Figure size 1200x600 with 3 Axes>"
      ]
     },
     "metadata": {},
     "output_type": "display_data"
    }
   ],
   "source": [
    "idx = 19\n",
    "image = test_images[idx]\n",
    "mask = test_masks[idx]\n",
    "image = image.cuda()\n",
    "predict_image(model, image, mask)"
   ]
  },
  {
   "cell_type": "markdown",
   "metadata": {},
   "source": [
    "## Model Performance and Potential Improvements"
   ]
  },
  {
   "cell_type": "markdown",
   "metadata": {},
   "source": [
    "Upon examining the performance of the segmentation model on test images, it becomes evident that there are both strengths and areas for potential enhancement. \n",
    "\n",
    "The model's predicted mask effectively captures the general shape of the horse, aligning well with the true mask provided as ground truth. \n",
    "\n",
    "However, finer details, particularly around the legs and more intricate features, show some discrepancies.\n",
    "\n",
    "\n",
    "\n",
    "Possible improvments:\n",
    "\n",
    "&emsp; - Currently, the model utilizes the outputs from the third and fourth levels of the network. Incorporating outputs from the first and second levels could provide additional spatial information and finer details, improving the segmentation quality, especially for smaller and more intricate features of the object.\n",
    "\n",
    "&emsp; - Working with higher-resolution images can significantly enhance the model's ability to capture minute details. Higher resolution allows the model to discern finer edges and subtle variations in the object, leading to more precise segmentation.\n",
    "\n",
    "&emsp; - Increasing the size of the training dataset can improve the model's robustness and generalization.\n"
   ]
  }
 ],
 "metadata": {
  "kernelspec": {
   "display_name": "ISPR",
   "language": "python",
   "name": "python3"
  },
  "language_info": {
   "codemirror_mode": {
    "name": "ipython",
    "version": 3
   },
   "file_extension": ".py",
   "mimetype": "text/x-python",
   "name": "python",
   "nbconvert_exporter": "python",
   "pygments_lexer": "ipython3",
   "version": "3.12.2"
  }
 },
 "nbformat": 4,
 "nbformat_minor": 2
}
